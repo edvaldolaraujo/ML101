{
 "cells": [
  {
   "cell_type": "code",
   "execution_count": 1,
   "metadata": {
    "ExecuteTime": {
     "end_time": "2021-06-04T16:25:13.229885Z",
     "start_time": "2021-06-04T16:25:12.903778Z"
    }
   },
   "outputs": [],
   "source": [
    "import pandas as pd"
   ]
  },
  {
   "cell_type": "code",
   "execution_count": 4,
   "metadata": {
    "ExecuteTime": {
     "end_time": "2021-06-04T16:25:39.628548Z",
     "start_time": "2021-06-04T16:25:39.618112Z"
    }
   },
   "outputs": [],
   "source": [
    "pd.options.display.float_format = '{:,.2f}'.format"
   ]
  },
  {
   "cell_type": "code",
   "execution_count": 47,
   "metadata": {
    "ExecuteTime": {
     "end_time": "2021-06-04T16:38:48.529005Z",
     "start_time": "2021-06-04T16:38:46.118813Z"
    }
   },
   "outputs": [],
   "source": [
    "base = pd.read_csv('C:\\\\Sandbox\\\\datasets\\\\HIST_PAINEL_COVIDBR.csv', sep=';')"
   ]
  },
  {
   "cell_type": "code",
   "execution_count": 54,
   "metadata": {
    "ExecuteTime": {
     "end_time": "2021-06-04T16:39:44.231843Z",
     "start_time": "2021-06-04T16:39:44.213891Z"
    }
   },
   "outputs": [
    {
     "name": "stdout",
     "output_type": "stream",
     "text": [
      "<class 'pandas.core.frame.DataFrame'>\n",
      "Int64Index: 2417380 entries, 4551 to 2439515\n",
      "Data columns (total 7 columns):\n",
      " #   Column                  Dtype  \n",
      "---  ------                  -----  \n",
      " 0   estado                  object \n",
      " 1   populacaoTCU2019        float64\n",
      " 2   casosNovos              int64  \n",
      " 3   obitosNovos             int64  \n",
      " 4   Recuperadosnovos        float64\n",
      " 5   interior/metropolitana  float64\n",
      " 6   CIDADE                  object \n",
      "dtypes: float64(3), int64(2), object(2)\n",
      "memory usage: 147.5+ MB\n"
     ]
    }
   ],
   "source": [
    "base.info()"
   ]
  },
  {
   "cell_type": "code",
   "execution_count": 48,
   "metadata": {
    "ExecuteTime": {
     "end_time": "2021-06-04T16:38:51.446931Z",
     "start_time": "2021-06-04T16:38:51.430300Z"
    }
   },
   "outputs": [],
   "source": [
    "base_interim = base"
   ]
  },
  {
   "cell_type": "code",
   "execution_count": 49,
   "metadata": {
    "ExecuteTime": {
     "end_time": "2021-06-04T16:38:52.995198Z",
     "start_time": "2021-06-04T16:38:52.324101Z"
    }
   },
   "outputs": [],
   "source": [
    "base_interim.drop(base_interim[base_interim['municipio'].isnull()].index, inplace = True)\n",
    "base_interim['CIDADE']= base_interim['estado'] + '-' +base_interim['municipio']"
   ]
  },
  {
   "cell_type": "code",
   "execution_count": 50,
   "metadata": {
    "ExecuteTime": {
     "end_time": "2021-06-04T16:39:01.487309Z",
     "start_time": "2021-06-04T16:39:01.139338Z"
    }
   },
   "outputs": [],
   "source": [
    "base_interim.drop(columns=['data','emAcompanhamentoNovos','semanaEpi','regiao','municipio','coduf', 'codmun', 'codRegiaoSaude', 'nomeRegiaoSaude', 'casosAcumulado', 'obitosAcumulado'], inplace=True)"
   ]
  },
  {
   "cell_type": "code",
   "execution_count": 51,
   "metadata": {
    "ExecuteTime": {
     "end_time": "2021-06-04T16:39:02.678990Z",
     "start_time": "2021-06-04T16:39:02.516093Z"
    }
   },
   "outputs": [],
   "source": [
    "base_interim.fillna(0 ,inplace=True)"
   ]
  },
  {
   "cell_type": "code",
   "execution_count": 52,
   "metadata": {
    "ExecuteTime": {
     "end_time": "2021-06-04T16:39:05.209721Z",
     "start_time": "2021-06-04T16:39:05.205730Z"
    }
   },
   "outputs": [
    {
     "data": {
      "text/plain": [
       "(2417380, 7)"
      ]
     },
     "execution_count": 52,
     "metadata": {},
     "output_type": "execute_result"
    }
   ],
   "source": [
    "base_interim.shape"
   ]
  },
  {
   "cell_type": "code",
   "execution_count": 53,
   "metadata": {
    "ExecuteTime": {
     "end_time": "2021-06-04T16:39:06.137846Z",
     "start_time": "2021-06-04T16:39:06.109874Z"
    }
   },
   "outputs": [
    {
     "data": {
      "text/html": [
       "<div>\n",
       "<style scoped>\n",
       "    .dataframe tbody tr th:only-of-type {\n",
       "        vertical-align: middle;\n",
       "    }\n",
       "\n",
       "    .dataframe tbody tr th {\n",
       "        vertical-align: top;\n",
       "    }\n",
       "\n",
       "    .dataframe thead th {\n",
       "        text-align: right;\n",
       "    }\n",
       "</style>\n",
       "<table border=\"1\" class=\"dataframe\">\n",
       "  <thead>\n",
       "    <tr style=\"text-align: right;\">\n",
       "      <th></th>\n",
       "      <th>estado</th>\n",
       "      <th>populacaoTCU2019</th>\n",
       "      <th>casosNovos</th>\n",
       "      <th>obitosNovos</th>\n",
       "      <th>Recuperadosnovos</th>\n",
       "      <th>interior/metropolitana</th>\n",
       "      <th>CIDADE</th>\n",
       "    </tr>\n",
       "  </thead>\n",
       "  <tbody>\n",
       "    <tr>\n",
       "      <th>4551</th>\n",
       "      <td>RO</td>\n",
       "      <td>22,945.00</td>\n",
       "      <td>0</td>\n",
       "      <td>0</td>\n",
       "      <td>0.00</td>\n",
       "      <td>0.00</td>\n",
       "      <td>RO-Alta Floresta D'Oeste</td>\n",
       "    </tr>\n",
       "    <tr>\n",
       "      <th>4552</th>\n",
       "      <td>RO</td>\n",
       "      <td>22,945.00</td>\n",
       "      <td>0</td>\n",
       "      <td>0</td>\n",
       "      <td>0.00</td>\n",
       "      <td>0.00</td>\n",
       "      <td>RO-Alta Floresta D'Oeste</td>\n",
       "    </tr>\n",
       "    <tr>\n",
       "      <th>4553</th>\n",
       "      <td>RO</td>\n",
       "      <td>22,945.00</td>\n",
       "      <td>0</td>\n",
       "      <td>0</td>\n",
       "      <td>0.00</td>\n",
       "      <td>0.00</td>\n",
       "      <td>RO-Alta Floresta D'Oeste</td>\n",
       "    </tr>\n",
       "    <tr>\n",
       "      <th>4554</th>\n",
       "      <td>RO</td>\n",
       "      <td>22,945.00</td>\n",
       "      <td>0</td>\n",
       "      <td>0</td>\n",
       "      <td>0.00</td>\n",
       "      <td>0.00</td>\n",
       "      <td>RO-Alta Floresta D'Oeste</td>\n",
       "    </tr>\n",
       "    <tr>\n",
       "      <th>4555</th>\n",
       "      <td>RO</td>\n",
       "      <td>22,945.00</td>\n",
       "      <td>0</td>\n",
       "      <td>0</td>\n",
       "      <td>0.00</td>\n",
       "      <td>0.00</td>\n",
       "      <td>RO-Alta Floresta D'Oeste</td>\n",
       "    </tr>\n",
       "    <tr>\n",
       "      <th>...</th>\n",
       "      <td>...</td>\n",
       "      <td>...</td>\n",
       "      <td>...</td>\n",
       "      <td>...</td>\n",
       "      <td>...</td>\n",
       "      <td>...</td>\n",
       "      <td>...</td>\n",
       "    </tr>\n",
       "    <tr>\n",
       "      <th>2439511</th>\n",
       "      <td>DF</td>\n",
       "      <td>3,015,268.00</td>\n",
       "      <td>811</td>\n",
       "      <td>21</td>\n",
       "      <td>0.00</td>\n",
       "      <td>1.00</td>\n",
       "      <td>DF-Brasília</td>\n",
       "    </tr>\n",
       "    <tr>\n",
       "      <th>2439512</th>\n",
       "      <td>DF</td>\n",
       "      <td>3,015,268.00</td>\n",
       "      <td>902</td>\n",
       "      <td>28</td>\n",
       "      <td>0.00</td>\n",
       "      <td>1.00</td>\n",
       "      <td>DF-Brasília</td>\n",
       "    </tr>\n",
       "    <tr>\n",
       "      <th>2439513</th>\n",
       "      <td>DF</td>\n",
       "      <td>3,015,268.00</td>\n",
       "      <td>836</td>\n",
       "      <td>22</td>\n",
       "      <td>0.00</td>\n",
       "      <td>1.00</td>\n",
       "      <td>DF-Brasília</td>\n",
       "    </tr>\n",
       "    <tr>\n",
       "      <th>2439514</th>\n",
       "      <td>DF</td>\n",
       "      <td>3,015,268.00</td>\n",
       "      <td>801</td>\n",
       "      <td>28</td>\n",
       "      <td>0.00</td>\n",
       "      <td>1.00</td>\n",
       "      <td>DF-Brasília</td>\n",
       "    </tr>\n",
       "    <tr>\n",
       "      <th>2439515</th>\n",
       "      <td>DF</td>\n",
       "      <td>3,015,268.00</td>\n",
       "      <td>487</td>\n",
       "      <td>20</td>\n",
       "      <td>0.00</td>\n",
       "      <td>1.00</td>\n",
       "      <td>DF-Brasília</td>\n",
       "    </tr>\n",
       "  </tbody>\n",
       "</table>\n",
       "<p>2417380 rows × 7 columns</p>\n",
       "</div>"
      ],
      "text/plain": [
       "        estado  populacaoTCU2019  casosNovos  obitosNovos  Recuperadosnovos  \\\n",
       "4551        RO         22,945.00           0            0              0.00   \n",
       "4552        RO         22,945.00           0            0              0.00   \n",
       "4553        RO         22,945.00           0            0              0.00   \n",
       "4554        RO         22,945.00           0            0              0.00   \n",
       "4555        RO         22,945.00           0            0              0.00   \n",
       "...        ...               ...         ...          ...               ...   \n",
       "2439511     DF      3,015,268.00         811           21              0.00   \n",
       "2439512     DF      3,015,268.00         902           28              0.00   \n",
       "2439513     DF      3,015,268.00         836           22              0.00   \n",
       "2439514     DF      3,015,268.00         801           28              0.00   \n",
       "2439515     DF      3,015,268.00         487           20              0.00   \n",
       "\n",
       "         interior/metropolitana                    CIDADE  \n",
       "4551                       0.00  RO-Alta Floresta D'Oeste  \n",
       "4552                       0.00  RO-Alta Floresta D'Oeste  \n",
       "4553                       0.00  RO-Alta Floresta D'Oeste  \n",
       "4554                       0.00  RO-Alta Floresta D'Oeste  \n",
       "4555                       0.00  RO-Alta Floresta D'Oeste  \n",
       "...                         ...                       ...  \n",
       "2439511                    1.00               DF-Brasília  \n",
       "2439512                    1.00               DF-Brasília  \n",
       "2439513                    1.00               DF-Brasília  \n",
       "2439514                    1.00               DF-Brasília  \n",
       "2439515                    1.00               DF-Brasília  \n",
       "\n",
       "[2417380 rows x 7 columns]"
      ]
     },
     "execution_count": 53,
     "metadata": {},
     "output_type": "execute_result"
    }
   ],
   "source": [
    "base_interim"
   ]
  },
  {
   "cell_type": "code",
   "execution_count": 58,
   "metadata": {
    "ExecuteTime": {
     "end_time": "2021-06-04T16:44:53.259317Z",
     "start_time": "2021-06-04T16:44:53.062708Z"
    }
   },
   "outputs": [
    {
     "data": {
      "text/html": [
       "<div>\n",
       "<style scoped>\n",
       "    .dataframe tbody tr th:only-of-type {\n",
       "        vertical-align: middle;\n",
       "    }\n",
       "\n",
       "    .dataframe tbody tr th {\n",
       "        vertical-align: top;\n",
       "    }\n",
       "\n",
       "    .dataframe thead th {\n",
       "        text-align: right;\n",
       "    }\n",
       "</style>\n",
       "<table border=\"1\" class=\"dataframe\">\n",
       "  <thead>\n",
       "    <tr style=\"text-align: right;\">\n",
       "      <th></th>\n",
       "      <th>populacaoTCU2019</th>\n",
       "      <th>obitosNovos</th>\n",
       "      <th>Recuperadosnovos</th>\n",
       "      <th>interior/metropolitana</th>\n",
       "    </tr>\n",
       "    <tr>\n",
       "      <th>casosNovos</th>\n",
       "      <th></th>\n",
       "      <th></th>\n",
       "      <th></th>\n",
       "      <th></th>\n",
       "    </tr>\n",
       "  </thead>\n",
       "  <tbody>\n",
       "    <tr>\n",
       "      <th>-46905</th>\n",
       "      <td>423,666.00</td>\n",
       "      <td>-1103</td>\n",
       "      <td>0.00</td>\n",
       "      <td>0.00</td>\n",
       "    </tr>\n",
       "    <tr>\n",
       "      <th>-43710</th>\n",
       "      <td>423,666.00</td>\n",
       "      <td>-1040</td>\n",
       "      <td>0.00</td>\n",
       "      <td>0.00</td>\n",
       "    </tr>\n",
       "    <tr>\n",
       "      <th>-42998</th>\n",
       "      <td>35,496.00</td>\n",
       "      <td>-1017</td>\n",
       "      <td>0.00</td>\n",
       "      <td>0.00</td>\n",
       "    </tr>\n",
       "    <tr>\n",
       "      <th>-15676</th>\n",
       "      <td>132,002.00</td>\n",
       "      <td>-356</td>\n",
       "      <td>0.00</td>\n",
       "      <td>1.00</td>\n",
       "    </tr>\n",
       "    <tr>\n",
       "      <th>-15014</th>\n",
       "      <td>7,971.00</td>\n",
       "      <td>-337</td>\n",
       "      <td>0.00</td>\n",
       "      <td>1.00</td>\n",
       "    </tr>\n",
       "    <tr>\n",
       "      <th>...</th>\n",
       "      <td>...</td>\n",
       "      <td>...</td>\n",
       "      <td>...</td>\n",
       "      <td>...</td>\n",
       "    </tr>\n",
       "    <tr>\n",
       "      <th>15014</th>\n",
       "      <td>7,971.00</td>\n",
       "      <td>337</td>\n",
       "      <td>0.00</td>\n",
       "      <td>1.00</td>\n",
       "    </tr>\n",
       "    <tr>\n",
       "      <th>40170</th>\n",
       "      <td>1,933,105.00</td>\n",
       "      <td>177</td>\n",
       "      <td>0.00</td>\n",
       "      <td>1.00</td>\n",
       "    </tr>\n",
       "    <tr>\n",
       "      <th>43028</th>\n",
       "      <td>35,496.00</td>\n",
       "      <td>1020</td>\n",
       "      <td>0.00</td>\n",
       "      <td>0.00</td>\n",
       "    </tr>\n",
       "    <tr>\n",
       "      <th>47101</th>\n",
       "      <td>423,666.00</td>\n",
       "      <td>1108</td>\n",
       "      <td>0.00</td>\n",
       "      <td>0.00</td>\n",
       "    </tr>\n",
       "    <tr>\n",
       "      <th>47815</th>\n",
       "      <td>3,984.00</td>\n",
       "      <td>1134</td>\n",
       "      <td>0.00</td>\n",
       "      <td>0.00</td>\n",
       "    </tr>\n",
       "  </tbody>\n",
       "</table>\n",
       "<p>2020 rows × 4 columns</p>\n",
       "</div>"
      ],
      "text/plain": [
       "            populacaoTCU2019  obitosNovos  Recuperadosnovos  \\\n",
       "casosNovos                                                    \n",
       "-46905            423,666.00        -1103              0.00   \n",
       "-43710            423,666.00        -1040              0.00   \n",
       "-42998             35,496.00        -1017              0.00   \n",
       "-15676            132,002.00         -356              0.00   \n",
       "-15014              7,971.00         -337              0.00   \n",
       "...                      ...          ...               ...   \n",
       " 15014              7,971.00          337              0.00   \n",
       " 40170          1,933,105.00          177              0.00   \n",
       " 43028             35,496.00         1020              0.00   \n",
       " 47101            423,666.00         1108              0.00   \n",
       " 47815              3,984.00         1134              0.00   \n",
       "\n",
       "            interior/metropolitana  \n",
       "casosNovos                          \n",
       "-46905                        0.00  \n",
       "-43710                        0.00  \n",
       "-42998                        0.00  \n",
       "-15676                        1.00  \n",
       "-15014                        1.00  \n",
       "...                            ...  \n",
       " 15014                        1.00  \n",
       " 40170                        1.00  \n",
       " 43028                        0.00  \n",
       " 47101                        0.00  \n",
       " 47815                        0.00  \n",
       "\n",
       "[2020 rows x 4 columns]"
      ]
     },
     "execution_count": 58,
     "metadata": {},
     "output_type": "execute_result"
    }
   ],
   "source": [
    "base_interim.groupby(['casosNovos']).sum()"
   ]
  },
  {
   "cell_type": "code",
   "execution_count": 56,
   "metadata": {
    "ExecuteTime": {
     "end_time": "2021-06-04T16:43:42.128658Z",
     "start_time": "2021-06-04T16:43:42.106717Z"
    }
   },
   "outputs": [
    {
     "data": {
      "text/html": [
       "<div>\n",
       "<style scoped>\n",
       "    .dataframe tbody tr th:only-of-type {\n",
       "        vertical-align: middle;\n",
       "    }\n",
       "\n",
       "    .dataframe tbody tr th {\n",
       "        vertical-align: top;\n",
       "    }\n",
       "\n",
       "    .dataframe thead th {\n",
       "        text-align: right;\n",
       "    }\n",
       "</style>\n",
       "<table border=\"1\" class=\"dataframe\">\n",
       "  <thead>\n",
       "    <tr style=\"text-align: right;\">\n",
       "      <th></th>\n",
       "      <th></th>\n",
       "      <th>populacaoTCU2019</th>\n",
       "      <th>obitosNovos</th>\n",
       "      <th>Recuperadosnovos</th>\n",
       "      <th>interior/metropolitana</th>\n",
       "    </tr>\n",
       "    <tr>\n",
       "      <th>CIDADE</th>\n",
       "      <th>casosNovos</th>\n",
       "      <th></th>\n",
       "      <th></th>\n",
       "      <th></th>\n",
       "      <th></th>\n",
       "    </tr>\n",
       "  </thead>\n",
       "  <tbody>\n",
       "    <tr>\n",
       "      <th rowspan=\"5\" valign=\"top\">AC-Acrelândia</th>\n",
       "      <th>-2</th>\n",
       "      <td>15,256.00</td>\n",
       "      <td>0</td>\n",
       "      <td>0.00</td>\n",
       "      <td>0.00</td>\n",
       "    </tr>\n",
       "    <tr>\n",
       "      <th>-1</th>\n",
       "      <td>167,816.00</td>\n",
       "      <td>3</td>\n",
       "      <td>0.00</td>\n",
       "      <td>0.00</td>\n",
       "    </tr>\n",
       "    <tr>\n",
       "      <th>0</th>\n",
       "      <td>2,913,896.00</td>\n",
       "      <td>9</td>\n",
       "      <td>0.00</td>\n",
       "      <td>0.00</td>\n",
       "    </tr>\n",
       "    <tr>\n",
       "      <th>1</th>\n",
       "      <td>747,544.00</td>\n",
       "      <td>5</td>\n",
       "      <td>0.00</td>\n",
       "      <td>0.00</td>\n",
       "    </tr>\n",
       "    <tr>\n",
       "      <th>2</th>\n",
       "      <td>533,960.00</td>\n",
       "      <td>4</td>\n",
       "      <td>0.00</td>\n",
       "      <td>0.00</td>\n",
       "    </tr>\n",
       "    <tr>\n",
       "      <th>...</th>\n",
       "      <th>...</th>\n",
       "      <td>...</td>\n",
       "      <td>...</td>\n",
       "      <td>...</td>\n",
       "      <td>...</td>\n",
       "    </tr>\n",
       "    <tr>\n",
       "      <th rowspan=\"5\" valign=\"top\">TO-Xambioá</th>\n",
       "      <th>36</th>\n",
       "      <td>11,540.00</td>\n",
       "      <td>0</td>\n",
       "      <td>0.00</td>\n",
       "      <td>0.00</td>\n",
       "    </tr>\n",
       "    <tr>\n",
       "      <th>37</th>\n",
       "      <td>23,080.00</td>\n",
       "      <td>0</td>\n",
       "      <td>0.00</td>\n",
       "      <td>0.00</td>\n",
       "    </tr>\n",
       "    <tr>\n",
       "      <th>39</th>\n",
       "      <td>11,540.00</td>\n",
       "      <td>1</td>\n",
       "      <td>0.00</td>\n",
       "      <td>0.00</td>\n",
       "    </tr>\n",
       "    <tr>\n",
       "      <th>41</th>\n",
       "      <td>11,540.00</td>\n",
       "      <td>1</td>\n",
       "      <td>0.00</td>\n",
       "      <td>0.00</td>\n",
       "    </tr>\n",
       "    <tr>\n",
       "      <th>44</th>\n",
       "      <td>11,540.00</td>\n",
       "      <td>0</td>\n",
       "      <td>0.00</td>\n",
       "      <td>0.00</td>\n",
       "    </tr>\n",
       "  </tbody>\n",
       "</table>\n",
       "<p>184668 rows × 4 columns</p>\n",
       "</div>"
      ],
      "text/plain": [
       "                          populacaoTCU2019  obitosNovos  Recuperadosnovos  \\\n",
       "CIDADE        casosNovos                                                    \n",
       "AC-Acrelândia -2                 15,256.00            0              0.00   \n",
       "              -1                167,816.00            3              0.00   \n",
       "               0              2,913,896.00            9              0.00   \n",
       "               1                747,544.00            5              0.00   \n",
       "               2                533,960.00            4              0.00   \n",
       "...                                    ...          ...               ...   \n",
       "TO-Xambioá     36                11,540.00            0              0.00   \n",
       "               37                23,080.00            0              0.00   \n",
       "               39                11,540.00            1              0.00   \n",
       "               41                11,540.00            1              0.00   \n",
       "               44                11,540.00            0              0.00   \n",
       "\n",
       "                          interior/metropolitana  \n",
       "CIDADE        casosNovos                          \n",
       "AC-Acrelândia -2                            0.00  \n",
       "              -1                            0.00  \n",
       "               0                            0.00  \n",
       "               1                            0.00  \n",
       "               2                            0.00  \n",
       "...                                          ...  \n",
       "TO-Xambioá     36                           0.00  \n",
       "               37                           0.00  \n",
       "               39                           0.00  \n",
       "               41                           0.00  \n",
       "               44                           0.00  \n",
       "\n",
       "[184668 rows x 4 columns]"
      ]
     },
     "execution_count": 56,
     "metadata": {},
     "output_type": "execute_result"
    }
   ],
   "source": [
    "grouped"
   ]
  },
  {
   "cell_type": "code",
   "execution_count": null,
   "metadata": {},
   "outputs": [],
   "source": []
  }
 ],
 "metadata": {
  "kernelspec": {
   "display_name": "Python 3",
   "language": "python",
   "name": "python3"
  },
  "language_info": {
   "codemirror_mode": {
    "name": "ipython",
    "version": 3
   },
   "file_extension": ".py",
   "mimetype": "text/x-python",
   "name": "python",
   "nbconvert_exporter": "python",
   "pygments_lexer": "ipython3",
   "version": "3.8.5"
  },
  "varInspector": {
   "cols": {
    "lenName": 16,
    "lenType": 16,
    "lenVar": 40
   },
   "kernels_config": {
    "python": {
     "delete_cmd_postfix": "",
     "delete_cmd_prefix": "del ",
     "library": "var_list.py",
     "varRefreshCmd": "print(var_dic_list())"
    },
    "r": {
     "delete_cmd_postfix": ") ",
     "delete_cmd_prefix": "rm(",
     "library": "var_list.r",
     "varRefreshCmd": "cat(var_dic_list()) "
    }
   },
   "types_to_exclude": [
    "module",
    "function",
    "builtin_function_or_method",
    "instance",
    "_Feature"
   ],
   "window_display": false
  }
 },
 "nbformat": 4,
 "nbformat_minor": 4
}
