{
  "cells": [
    {
      "metadata": {
        "id": "N2-cuFtvicBu",
        "colab_type": "text"
      },
      "cell_type": "markdown",
      "source": "# Machine Learning\nÉ um campo da **Inteligência Artificial** cujo propósito é desenvolver e usar algorítmos que aprendem a partir de dados.\n\nApesar de ser um tema muito falado nestas primeiras décadas do século XXI, pesquisas relacionadas ao aprendizado de máquina datam de meados do século XX."
    },
    {
      "metadata": {
        "id": "C1tTgOV-lwg0",
        "colab_type": "text"
      },
      "cell_type": "markdown",
      "source": "Para trabalhar neste ramo é necessário um conjunto de conhecimentos:\n* **Linguagem de programação**: Conhecer uma linguagem de programação que tenha embarcado um ecossistema (ou framework) de machine learning é essencial. Atualmente, Python é uma das opções disponívels.\n* **Matemática**: principalmente nas áreas de matemática elementar, álgebra linear, geometria analítica e cálculo.\n* **Estatística**: saber minimamente tópicos de estátistica descritiva e inferência estatística.\n* **Pensamento analítico**: ter capacidade de analisar e interpretar resultados além de elaborar, testar, validar ou rejeitar hipóteses.\n* **Storytelling**: Contar histórias a partir dos dados que ajudem a responder perguntas de negócios que supportem os tomadores de decisões.\n\nDependendo da empresa, um profissional que trabalha com aprendizado de máquina pode ter os seguintes títulos: **Especialista, Engenheiro ou Cientista de Dados**."
    },
    {
      "metadata": {
        "id": "h8VMB79Lnu3q",
        "colab_type": "text"
      },
      "cell_type": "markdown",
      "source": "## Tipos de Machine Learning\nOs principais tipos de aprendizados de máquina são:"
    },
    {
      "metadata": {
        "id": "1meZURLFpLY2",
        "colab_type": "text"
      },
      "cell_type": "markdown",
      "source": "| Tipo                | Descrição | Aplicações |\n| ------------------- | --------- | ---------- |\n| Supervised Learning | Dado um conjunto de dados com uma variável resposta ou dependente (normalmente chamada de **y**) é possivel construir algorítmos que usam as varíaveis independentes (chamadas de **X**) para aprender a respeito de como a variável depende se comporta. | Problemas de previsão e classificação |\n| Unsupervised Learning | Identifcar padrões nos dados sem considerar variáveis dependentes. | Agrupamentos, redução de dimensionalidade e detecção de anomalias |\n| Semisupervided Learning | Combinação dos dois tipos de aprendizados acima | Chabots |\n| Reinforcement Learning | Um tipo de aprendizado que estuda o ambiente e trata acertos e erros como recompensas que retroalimentam o próprio ambiente de aprendizado.  | Carros autônomos, assistentes virtuais |"
    },
    {
      "metadata": {
        "id": "TwZlotCA4b5G",
        "colab_type": "text"
      },
      "cell_type": "markdown",
      "source": "## Exemplos de algorítmos de Machine Learning\nOs algorítmos disponíveis para executar tarefas de Machine Learning estão em constante expansão e aprimoramento. Mesmo assim é possivel identificar os casos mais clássicos no contexto de aprendizado de máquina"
    },
    {
      "metadata": {
        "id": "2eTyV9Yt42NX",
        "colab_type": "text"
      },
      "cell_type": "markdown",
      "source": "| Tipo | Algorítmo |\n| ---- | --------- |\n| Supervised Learning | k-Nearest Neighbors, Linear Regression, Logistic Regression, Support Vector Machines (SVMs), Decision Trees and, Random Forests Neural networks |\n| Unsupervised Learning | K-Means, DBSCAN, Hierarchical Cluster Analysis (HCA), One-class SVM, Isolation Forest, Principal Component Analysis (PCA), Kernel PCA, Locally Linear Embedding (LLE), t-Distributed Stochastic Neighbor Embedding (t-SNE),  Apriori, Eclat |\n| Semisupervised Learning | Deep belief networks (DBNs), Restricted Boltzmann machines (RBMs) |\n"
    },
    {
      "metadata": {
        "id": "p4l93iYrpzmH",
        "colab_type": "text"
      },
      "cell_type": "markdown",
      "source": "## Tarefas básicas\nTrabalhar com Machine Learning consiste em criar modelos que aprender a partir dos dados.\n\nPara o uso correto das técnicas de Machine Learning há algumas tarefas que são essenciais e um especialista (ou engenheiro) de Machine Learning necessita conhecer:\n* Entender as variáveis que necessitamos estudar, buscando conhecer suas características e natureza dos dados.\n* Aplicar Análise Exploratória de Dados.\n* Lidar com casos de exceção, como por exemplo missing e outliers. \n* Aplicar Feature Engineering"
    },
    {
      "metadata": {
        "id": "_HF05FBnrU_H",
        "colab_type": "text"
      },
      "cell_type": "markdown",
      "source": "### Variáveis do estudo (ou experimento)\nBasicamente há quatro tipos de variáveis:"
    },
    {
      "metadata": {
        "id": "VBbJqRr-r2FQ",
        "colab_type": "text"
      },
      "cell_type": "markdown",
      "source": "| Varíável | Descrição | Exemplo |\n| -------- | ---------------| --------------------- |\n| Discreta | São variáveis **quantitativas** ou **numéricas** e expressam valores inteiros | quantidade de filhos, quantidade de latas de refrigerante  |\n| Contínua | São variáveis **quantitativas** ou **numéricas** e expressam valores racionais | Peso, salário, renda familiar |\n| Nominal | São variáveis **qualitativas** ou **categóricas** e expressam categorias ou classes | Tipo de veículo, tipo de renda.  |\n| Ordinal |São variáveis **qualitativas** ou **categóricas** e expressam ordens de grandeza. | Classe social, grau de escolaridade |"
    },
    {
      "metadata": {
        "id": "w4euCtNR2Ge_",
        "colab_type": "text"
      },
      "cell_type": "markdown",
      "source": "### Análise Exploratória de Dados\nÉ uma ferramenta estatística que permite avaliar cada varíavel obtendo uma comprensão clara dos dados, suas medidas (média, mediana, moda), suas variabilidades (amplitude e dispersão), suas distribuições bem como suas possíveis relações."
    },
    {
      "metadata": {
        "id": "ZbPneAIpugCZ",
        "colab_type": "text"
      },
      "cell_type": "markdown",
      "source": "### Lidar com Exceções\nExceções (missing, outliers e etc) precisam ser tratados antes de iniciar qualquer tipo de trabalho relacionado com Machine Learning.\n\nPara casos missing é possivel assumir um valor arbritário, como por exemplo a **moda** (valor mais recorrente para variáveis categóricas) ou a **média** (para variáveis numéricas). Outra opção é remover tais casos da base desconsiderando o registro inteiro ou apenas a varíável missing.\n\nPara outliers é preciso uma análise que permita identificar quais são os valores atípicos e assim decidir se é melhor mantê-los, remover o registro inteiro ou apenas a variável com outliers. Uma boa forma de analisar outliers é usar limites inferiores e superiores a partir do intervalo interquartil. Desta forma, você considera tudo que está fora destes limites como possiveis outliers. Os limites podem ser definido como: \n\n\\begin{align}\nL_{inf} = \\bar{x} - 1.5 * (Q3-Q1) \n\\end{align}\n\\begin{align}\nL_{sup} = \\bar{x} + 1.5 * (Q3-Q1) \n\\end{align}\n\nAo lidar com as exceções deve-se primeiramente alinhar a decisão com todos os envolvidos e registrar detalhadamente o tipo de ação que foi tomada."
    },
    {
      "metadata": {
        "id": "jFNvR_l2-ZCJ",
        "colab_type": "text"
      },
      "cell_type": "markdown",
      "source": "### Aplicar Feature Engineering\nO uso de determinado tipo de algorítmo depende do problema de negócio que se queira resolver. A maioria dos algorítmos necessita que as variáveis usadas na criação de um modelo tenham determinadas caraterísticas para que funcionem corretamente, por exemplo, ser numérica ao invés de categórica.\n\nO trabalho de criar e adaptar as variáveis para que possam ser usadas nos modelos chama-se Feature Engineering. Este tipo de trabalho chega ser mais arte que ciência e varia muito conforme a experiência do Engenheiro de Machine Learning e o tipo de dado que se deseja usar.\n\nHá várias técnicas, mas duas são as mais comuns: Transformar as variáveis categóricas (ou qualitativas) para variáveis dummy e Redimennsionar ou escalar o dado.\n\nAs duas técnicas mais comuns para escalar os dados são: **z-score normalization** e **min-max scalling**.\n\nFórmula para z-score normalization:\n\n$z = \\frac{x-\\mu}{\\sigma}$\n\nFórmula para min-max scalling:\n\n$ X_{adj} = \\frac{X -X_{min}}{X_{max} - X_{min}}  $"
    },
    {
      "metadata": {
        "id": "T34Ig6Hr-L4v",
        "colab_type": "text"
      },
      "cell_type": "markdown",
      "source": "## Importante\nÉ aqui onde a maior parte do tempo é gasto, pois trata-se de tarefas demoradas. \n\nTodo o trabalho realizado deve ser muito bem documentado. \n\nNenhum dado deve ser sobrescrito ou apagado para não perder a rastreabilidade bem como possibilidade de reproduzir todo o processo do início ao fim."
    }
  ],
  "metadata": {
    "colab": {
      "name": "0 - Intro AI Machine Learning.ipynb",
      "provenance": [],
      "collapsed_sections": [],
      "toc_visible": true
    },
    "kernelspec": {
      "name": "python3",
      "display_name": "Python 3",
      "language": "python"
    },
    "language_info": {
      "mimetype": "text/x-python",
      "nbconvert_exporter": "python",
      "name": "python",
      "pygments_lexer": "ipython3",
      "version": "3.5.4",
      "file_extension": ".py",
      "codemirror_mode": {
        "version": 3,
        "name": "ipython"
      }
    }
  },
  "nbformat": 4,
  "nbformat_minor": 1
}