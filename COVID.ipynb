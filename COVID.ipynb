{
 "cells": [
  {
   "cell_type": "markdown",
   "metadata": {},
   "source": [
    "# Análise de Dados - Covid-19"
   ]
  },
  {
   "cell_type": "code",
   "execution_count": 1,
   "metadata": {
    "ExecuteTime": {
     "end_time": "2021-06-04T19:36:20.383407Z",
     "start_time": "2021-06-04T19:36:20.060891Z"
    }
   },
   "outputs": [],
   "source": [
    "import pandas as pd"
   ]
  },
  {
   "cell_type": "code",
   "execution_count": 2,
   "metadata": {
    "ExecuteTime": {
     "end_time": "2021-06-04T19:36:21.971747Z",
     "start_time": "2021-06-04T19:36:21.965727Z"
    }
   },
   "outputs": [],
   "source": [
    "pd.options.display.float_format = '{:,.2f}'.format"
   ]
  },
  {
   "cell_type": "code",
   "execution_count": 3,
   "metadata": {
    "ExecuteTime": {
     "end_time": "2021-06-04T19:36:25.487484Z",
     "start_time": "2021-06-04T19:36:23.136449Z"
    }
   },
   "outputs": [],
   "source": [
    "base = pd.read_csv('C:\\\\Sandbox\\\\datasets\\\\HIST_PAINEL_COVIDBR.csv', sep=';')"
   ]
  },
  {
   "cell_type": "code",
   "execution_count": 4,
   "metadata": {
    "ExecuteTime": {
     "end_time": "2021-06-04T19:36:26.420459Z",
     "start_time": "2021-06-04T19:36:26.411491Z"
    }
   },
   "outputs": [
    {
     "name": "stdout",
     "output_type": "stream",
     "text": [
      "<class 'pandas.core.frame.DataFrame'>\n",
      "RangeIndex: 2439516 entries, 0 to 2439515\n",
      "Data columns (total 17 columns):\n",
      " #   Column                  Dtype  \n",
      "---  ------                  -----  \n",
      " 0   regiao                  object \n",
      " 1   estado                  object \n",
      " 2   municipio               object \n",
      " 3   coduf                   int64  \n",
      " 4   codmun                  float64\n",
      " 5   codRegiaoSaude          float64\n",
      " 6   nomeRegiaoSaude         object \n",
      " 7   data                    object \n",
      " 8   semanaEpi               int64  \n",
      " 9   populacaoTCU2019        float64\n",
      " 10  casosAcumulado          float64\n",
      " 11  casosNovos              int64  \n",
      " 12  obitosAcumulado         int64  \n",
      " 13  obitosNovos             int64  \n",
      " 14  Recuperadosnovos        float64\n",
      " 15  emAcompanhamentoNovos   float64\n",
      " 16  interior/metropolitana  float64\n",
      "dtypes: float64(7), int64(5), object(5)\n",
      "memory usage: 316.4+ MB\n"
     ]
    }
   ],
   "source": [
    "base.info()"
   ]
  },
  {
   "cell_type": "code",
   "execution_count": 5,
   "metadata": {
    "ExecuteTime": {
     "end_time": "2021-06-04T19:36:33.643612Z",
     "start_time": "2021-06-04T19:36:33.635600Z"
    }
   },
   "outputs": [],
   "source": [
    "base_interim = base"
   ]
  },
  {
   "cell_type": "code",
   "execution_count": 6,
   "metadata": {
    "ExecuteTime": {
     "end_time": "2021-06-04T19:36:35.223616Z",
     "start_time": "2021-06-04T19:36:34.531590Z"
    }
   },
   "outputs": [],
   "source": [
    "base_interim.drop(base_interim[base_interim['municipio'].isnull()].index, inplace = True)\n",
    "base_interim['CIDADE']= base_interim['estado'] + '-' +base_interim['municipio']"
   ]
  },
  {
   "cell_type": "code",
   "execution_count": 7,
   "metadata": {
    "ExecuteTime": {
     "end_time": "2021-06-04T19:36:36.416143Z",
     "start_time": "2021-06-04T19:36:36.081704Z"
    }
   },
   "outputs": [],
   "source": [
    "base_interim.drop(columns=['data','emAcompanhamentoNovos','semanaEpi','regiao','municipio','coduf', 'codmun', 'codRegiaoSaude', 'nomeRegiaoSaude', 'casosAcumulado', 'obitosAcumulado'], inplace=True)"
   ]
  },
  {
   "cell_type": "code",
   "execution_count": 8,
   "metadata": {
    "ExecuteTime": {
     "end_time": "2021-06-04T19:36:37.693424Z",
     "start_time": "2021-06-04T19:36:37.530705Z"
    }
   },
   "outputs": [],
   "source": [
    "base_interim.fillna(0 ,inplace=True)"
   ]
  },
  {
   "cell_type": "code",
   "execution_count": 9,
   "metadata": {
    "ExecuteTime": {
     "end_time": "2021-06-04T19:36:38.367399Z",
     "start_time": "2021-06-04T19:36:38.347461Z"
    }
   },
   "outputs": [
    {
     "data": {
      "text/plain": [
       "(2417380, 7)"
      ]
     },
     "execution_count": 9,
     "metadata": {},
     "output_type": "execute_result"
    }
   ],
   "source": [
    "base_interim.shape"
   ]
  },
  {
   "cell_type": "code",
   "execution_count": 13,
   "metadata": {
    "ExecuteTime": {
     "end_time": "2021-06-04T19:39:48.098741Z",
     "start_time": "2021-06-04T19:39:47.816652Z"
    }
   },
   "outputs": [
    {
     "data": {
      "text/html": [
       "<div>\n",
       "<style scoped>\n",
       "    .dataframe tbody tr th:only-of-type {\n",
       "        vertical-align: middle;\n",
       "    }\n",
       "\n",
       "    .dataframe tbody tr th {\n",
       "        vertical-align: top;\n",
       "    }\n",
       "\n",
       "    .dataframe thead th {\n",
       "        text-align: right;\n",
       "    }\n",
       "</style>\n",
       "<table border=\"1\" class=\"dataframe\">\n",
       "  <thead>\n",
       "    <tr style=\"text-align: right;\">\n",
       "      <th></th>\n",
       "      <th>count</th>\n",
       "      <th>mean</th>\n",
       "      <th>std</th>\n",
       "      <th>min</th>\n",
       "      <th>25%</th>\n",
       "      <th>50%</th>\n",
       "      <th>75%</th>\n",
       "      <th>max</th>\n",
       "    </tr>\n",
       "  </thead>\n",
       "  <tbody>\n",
       "    <tr>\n",
       "      <th>populacaoTCU2019</th>\n",
       "      <td>2,417,380.00</td>\n",
       "      <td>37,728.39</td>\n",
       "      <td>221,438.23</td>\n",
       "      <td>781.00</td>\n",
       "      <td>5,446.00</td>\n",
       "      <td>11,631.00</td>\n",
       "      <td>25,492.00</td>\n",
       "      <td>12,252,023.00</td>\n",
       "    </tr>\n",
       "    <tr>\n",
       "      <th>casosNovos</th>\n",
       "      <td>2,417,380.00</td>\n",
       "      <td>6.94</td>\n",
       "      <td>100.61</td>\n",
       "      <td>-46,905.00</td>\n",
       "      <td>0.00</td>\n",
       "      <td>0.00</td>\n",
       "      <td>3.00</td>\n",
       "      <td>47,815.00</td>\n",
       "    </tr>\n",
       "    <tr>\n",
       "      <th>obitosNovos</th>\n",
       "      <td>2,417,380.00</td>\n",
       "      <td>0.19</td>\n",
       "      <td>6.45</td>\n",
       "      <td>-4,109.00</td>\n",
       "      <td>0.00</td>\n",
       "      <td>0.00</td>\n",
       "      <td>0.00</td>\n",
       "      <td>4,109.00</td>\n",
       "    </tr>\n",
       "    <tr>\n",
       "      <th>Recuperadosnovos</th>\n",
       "      <td>2,417,380.00</td>\n",
       "      <td>0.00</td>\n",
       "      <td>0.00</td>\n",
       "      <td>0.00</td>\n",
       "      <td>0.00</td>\n",
       "      <td>0.00</td>\n",
       "      <td>0.00</td>\n",
       "      <td>0.00</td>\n",
       "    </tr>\n",
       "    <tr>\n",
       "      <th>interior/metropolitana</th>\n",
       "      <td>2,417,380.00</td>\n",
       "      <td>0.07</td>\n",
       "      <td>0.25</td>\n",
       "      <td>0.00</td>\n",
       "      <td>0.00</td>\n",
       "      <td>0.00</td>\n",
       "      <td>0.00</td>\n",
       "      <td>1.00</td>\n",
       "    </tr>\n",
       "  </tbody>\n",
       "</table>\n",
       "</div>"
      ],
      "text/plain": [
       "                              count      mean        std        min      25%  \\\n",
       "populacaoTCU2019       2,417,380.00 37,728.39 221,438.23     781.00 5,446.00   \n",
       "casosNovos             2,417,380.00      6.94     100.61 -46,905.00     0.00   \n",
       "obitosNovos            2,417,380.00      0.19       6.45  -4,109.00     0.00   \n",
       "Recuperadosnovos       2,417,380.00      0.00       0.00       0.00     0.00   \n",
       "interior/metropolitana 2,417,380.00      0.07       0.25       0.00     0.00   \n",
       "\n",
       "                             50%       75%           max  \n",
       "populacaoTCU2019       11,631.00 25,492.00 12,252,023.00  \n",
       "casosNovos                  0.00      3.00     47,815.00  \n",
       "obitosNovos                 0.00      0.00      4,109.00  \n",
       "Recuperadosnovos            0.00      0.00          0.00  \n",
       "interior/metropolitana      0.00      0.00          1.00  "
      ]
     },
     "execution_count": 13,
     "metadata": {},
     "output_type": "execute_result"
    }
   ],
   "source": [
    "base_interim.describe().T"
   ]
  },
  {
   "cell_type": "code",
   "execution_count": 11,
   "metadata": {
    "ExecuteTime": {
     "end_time": "2021-06-04T19:39:01.777198Z",
     "start_time": "2021-06-04T19:39:01.465112Z"
    }
   },
   "outputs": [
    {
     "data": {
      "text/html": [
       "<div>\n",
       "<style scoped>\n",
       "    .dataframe tbody tr th:only-of-type {\n",
       "        vertical-align: middle;\n",
       "    }\n",
       "\n",
       "    .dataframe tbody tr th {\n",
       "        vertical-align: top;\n",
       "    }\n",
       "\n",
       "    .dataframe thead th {\n",
       "        text-align: right;\n",
       "    }\n",
       "</style>\n",
       "<table border=\"1\" class=\"dataframe\">\n",
       "  <thead>\n",
       "    <tr style=\"text-align: right;\">\n",
       "      <th></th>\n",
       "      <th>populacaoTCU2019</th>\n",
       "      <th>obitosNovos</th>\n",
       "      <th>Recuperadosnovos</th>\n",
       "      <th>interior/metropolitana</th>\n",
       "    </tr>\n",
       "    <tr>\n",
       "      <th>casosNovos</th>\n",
       "      <th></th>\n",
       "      <th></th>\n",
       "      <th></th>\n",
       "      <th></th>\n",
       "    </tr>\n",
       "  </thead>\n",
       "  <tbody>\n",
       "    <tr>\n",
       "      <th>-46905</th>\n",
       "      <td>423,666.00</td>\n",
       "      <td>-1103</td>\n",
       "      <td>0.00</td>\n",
       "      <td>0.00</td>\n",
       "    </tr>\n",
       "    <tr>\n",
       "      <th>-43710</th>\n",
       "      <td>423,666.00</td>\n",
       "      <td>-1040</td>\n",
       "      <td>0.00</td>\n",
       "      <td>0.00</td>\n",
       "    </tr>\n",
       "    <tr>\n",
       "      <th>-42998</th>\n",
       "      <td>35,496.00</td>\n",
       "      <td>-1017</td>\n",
       "      <td>0.00</td>\n",
       "      <td>0.00</td>\n",
       "    </tr>\n",
       "    <tr>\n",
       "      <th>-15676</th>\n",
       "      <td>132,002.00</td>\n",
       "      <td>-356</td>\n",
       "      <td>0.00</td>\n",
       "      <td>1.00</td>\n",
       "    </tr>\n",
       "    <tr>\n",
       "      <th>-15014</th>\n",
       "      <td>7,971.00</td>\n",
       "      <td>-337</td>\n",
       "      <td>0.00</td>\n",
       "      <td>1.00</td>\n",
       "    </tr>\n",
       "    <tr>\n",
       "      <th>...</th>\n",
       "      <td>...</td>\n",
       "      <td>...</td>\n",
       "      <td>...</td>\n",
       "      <td>...</td>\n",
       "    </tr>\n",
       "    <tr>\n",
       "      <th>15014</th>\n",
       "      <td>7,971.00</td>\n",
       "      <td>337</td>\n",
       "      <td>0.00</td>\n",
       "      <td>1.00</td>\n",
       "    </tr>\n",
       "    <tr>\n",
       "      <th>40170</th>\n",
       "      <td>1,933,105.00</td>\n",
       "      <td>177</td>\n",
       "      <td>0.00</td>\n",
       "      <td>1.00</td>\n",
       "    </tr>\n",
       "    <tr>\n",
       "      <th>43028</th>\n",
       "      <td>35,496.00</td>\n",
       "      <td>1020</td>\n",
       "      <td>0.00</td>\n",
       "      <td>0.00</td>\n",
       "    </tr>\n",
       "    <tr>\n",
       "      <th>47101</th>\n",
       "      <td>423,666.00</td>\n",
       "      <td>1108</td>\n",
       "      <td>0.00</td>\n",
       "      <td>0.00</td>\n",
       "    </tr>\n",
       "    <tr>\n",
       "      <th>47815</th>\n",
       "      <td>3,984.00</td>\n",
       "      <td>1134</td>\n",
       "      <td>0.00</td>\n",
       "      <td>0.00</td>\n",
       "    </tr>\n",
       "  </tbody>\n",
       "</table>\n",
       "<p>2020 rows × 4 columns</p>\n",
       "</div>"
      ],
      "text/plain": [
       "            populacaoTCU2019  obitosNovos  Recuperadosnovos  \\\n",
       "casosNovos                                                    \n",
       "-46905            423,666.00        -1103              0.00   \n",
       "-43710            423,666.00        -1040              0.00   \n",
       "-42998             35,496.00        -1017              0.00   \n",
       "-15676            132,002.00         -356              0.00   \n",
       "-15014              7,971.00         -337              0.00   \n",
       "...                      ...          ...               ...   \n",
       " 15014              7,971.00          337              0.00   \n",
       " 40170          1,933,105.00          177              0.00   \n",
       " 43028             35,496.00         1020              0.00   \n",
       " 47101            423,666.00         1108              0.00   \n",
       " 47815              3,984.00         1134              0.00   \n",
       "\n",
       "            interior/metropolitana  \n",
       "casosNovos                          \n",
       "-46905                        0.00  \n",
       "-43710                        0.00  \n",
       "-42998                        0.00  \n",
       "-15676                        1.00  \n",
       "-15014                        1.00  \n",
       "...                            ...  \n",
       " 15014                        1.00  \n",
       " 40170                        1.00  \n",
       " 43028                        0.00  \n",
       " 47101                        0.00  \n",
       " 47815                        0.00  \n",
       "\n",
       "[2020 rows x 4 columns]"
      ]
     },
     "execution_count": 11,
     "metadata": {},
     "output_type": "execute_result"
    }
   ],
   "source": [
    "base_interim.groupby('casosNovos').sum()"
   ]
  },
  {
   "cell_type": "code",
   "execution_count": null,
   "metadata": {
    "ExecuteTime": {
     "end_time": "2021-06-04T16:43:42.128658Z",
     "start_time": "2021-06-04T16:43:42.106717Z"
    }
   },
   "outputs": [],
   "source": [
    "grouped"
   ]
  },
  {
   "cell_type": "code",
   "execution_count": null,
   "metadata": {},
   "outputs": [],
   "source": []
  }
 ],
 "metadata": {
  "kernelspec": {
   "display_name": "Python 3",
   "language": "python",
   "name": "python3"
  },
  "language_info": {
   "codemirror_mode": {
    "name": "ipython",
    "version": 3
   },
   "file_extension": ".py",
   "mimetype": "text/x-python",
   "name": "python",
   "nbconvert_exporter": "python",
   "pygments_lexer": "ipython3",
   "version": "3.8.5"
  },
  "varInspector": {
   "cols": {
    "lenName": 16,
    "lenType": 16,
    "lenVar": 40
   },
   "kernels_config": {
    "python": {
     "delete_cmd_postfix": "",
     "delete_cmd_prefix": "del ",
     "library": "var_list.py",
     "varRefreshCmd": "print(var_dic_list())"
    },
    "r": {
     "delete_cmd_postfix": ") ",
     "delete_cmd_prefix": "rm(",
     "library": "var_list.r",
     "varRefreshCmd": "cat(var_dic_list()) "
    }
   },
   "types_to_exclude": [
    "module",
    "function",
    "builtin_function_or_method",
    "instance",
    "_Feature"
   ],
   "window_display": false
  }
 },
 "nbformat": 4,
 "nbformat_minor": 4
}
