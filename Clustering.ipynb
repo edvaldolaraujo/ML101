{
 "cells": [
  {
   "cell_type": "markdown",
   "metadata": {},
   "source": [
    "# Análise de Cluster"
   ]
  },
  {
   "cell_type": "markdown",
   "metadata": {},
   "source": [
    "O conjunto de dados usado neste experimento é base da PNAE 2018 restruturada por cidade."
   ]
  },
  {
   "cell_type": "markdown",
   "metadata": {},
   "source": [
    "## Importando pacotes"
   ]
  },
  {
   "cell_type": "code",
   "execution_count": null,
   "metadata": {
    "ExecuteTime": {
     "end_time": "2021-06-04T12:29:53.473294Z",
     "start_time": "2021-06-04T12:29:15.405569Z"
    }
   },
   "outputs": [],
   "source": [
    "import numpy as np\n",
    "import pandas as pd\n",
    "import seaborn as sns\n",
    "import matplotlib.pyplot as plt\n",
    "from scipy.stats import iqr\n",
    "\n",
    "from sklearn.cluster import KMeans\n",
    "from sklearn.preprocessing import StandardScaler\n",
    "from sklearn.preprocessing import MinMaxScaler"
   ]
  },
  {
   "cell_type": "code",
   "execution_count": null,
   "metadata": {
    "ExecuteTime": {
     "end_time": "2021-06-04T12:29:59.150149Z",
     "start_time": "2021-06-04T12:29:59.144688Z"
    }
   },
   "outputs": [],
   "source": [
    "pd.options.display.float_format = '{:,.2f}'.format"
   ]
  },
  {
   "cell_type": "markdown",
   "metadata": {},
   "source": [
    "## Carregando dados"
   ]
  },
  {
   "cell_type": "code",
   "execution_count": null,
   "metadata": {
    "ExecuteTime": {
     "end_time": "2021-06-04T12:30:01.924841Z",
     "start_time": "2021-06-04T12:30:01.650082Z"
    }
   },
   "outputs": [],
   "source": [
    "base = pd.read_csv('PNAE_RECURSOS_REPASSADOS_2018_FINAL.csv')"
   ]
  },
  {
   "cell_type": "code",
   "execution_count": null,
   "metadata": {
    "ExecuteTime": {
     "end_time": "2021-06-04T12:30:03.305814Z",
     "start_time": "2021-06-04T12:30:03.114543Z"
    }
   },
   "outputs": [],
   "source": [
    "base.info()"
   ]
  },
  {
   "cell_type": "markdown",
   "metadata": {},
   "source": [
    "## Explorando dados"
   ]
  },
  {
   "cell_type": "code",
   "execution_count": null,
   "metadata": {
    "ExecuteTime": {
     "end_time": "2021-06-03T21:30:37.600063Z",
     "start_time": "2021-06-03T21:30:37.560883Z"
    }
   },
   "outputs": [],
   "source": [
    "base.describe().T"
   ]
  },
  {
   "cell_type": "code",
   "execution_count": null,
   "metadata": {
    "ExecuteTime": {
     "end_time": "2021-06-03T21:30:40.899291Z",
     "start_time": "2021-06-03T21:30:40.880981Z"
    }
   },
   "outputs": [],
   "source": [
    "base['ESTADO']=base['CIDADE'].str.slice(0, 2)"
   ]
  },
  {
   "cell_type": "code",
   "execution_count": null,
   "metadata": {
    "ExecuteTime": {
     "end_time": "2021-06-03T22:42:22.964641Z",
     "start_time": "2021-06-03T22:42:22.943694Z"
    }
   },
   "outputs": [],
   "source": [
    "# Intervalo interquartil e limites\n",
    "def ver_outliers(df, feature):\n",
    "    valor_iqr=iqr(df[feature],  keepdims=True)[0]\n",
    "\n",
    "    l_sup = df[feature].mean()  + 1.5*valor_iqr\n",
    "    l_inf = df[feature].mean()  - 1.5*valor_iqr\n",
    "\n",
    "    print('Intervalo interquartil:', valor_iqr)\n",
    "    print('Média', df[feature].mean())\n",
    "    print('Limite Superior:', l_sup)\n",
    "    print('Limite inferior:', l_inf)\n",
    "    \n",
    "    df[feature+'_OUT']=df[feature].apply(lambda x: 1 if (x<l_inf or x>l_sup) else 0)\n",
    "    print()\n",
    "    print(base.groupby(feature+'_OUT')[feature+'_OUT'].count())\n",
    "    "
   ]
  },
  {
   "cell_type": "code",
   "execution_count": null,
   "metadata": {
    "ExecuteTime": {
     "end_time": "2021-06-03T22:42:23.382657Z",
     "start_time": "2021-06-03T22:42:23.359719Z"
    }
   },
   "outputs": [],
   "source": [
    "ver_outliers(base, 'CRECHE')"
   ]
  },
  {
   "cell_type": "code",
   "execution_count": null,
   "metadata": {
    "ExecuteTime": {
     "end_time": "2021-06-03T22:45:16.948933Z",
     "start_time": "2021-06-03T22:45:16.932946Z"
    }
   },
   "outputs": [],
   "source": [
    "base.groupby('CRECHE_OUT')['ESTADO'].count()"
   ]
  },
  {
   "cell_type": "code",
   "execution_count": null,
   "metadata": {
    "ExecuteTime": {
     "end_time": "2021-06-03T22:00:54.577078Z",
     "start_time": "2021-06-03T22:00:54.565111Z"
    }
   },
   "outputs": [],
   "source": [
    "campos = ['ATENDIMENTO EDUCACIONAL ESPECIALIZADO (AEE)',\n",
    "'CRECHE',\n",
    "'EJA',\n",
    "'ENSINO FUNDAMENTAL',\n",
    "'ENSINO Mï¿½DIO',\n",
    "'ENSINO Mï¿½DIO INTEGRAL',\n",
    "'INDï¿½GENA',\n",
    "'MAIS EDUCAï¿½ï¿½O (PARC. COMPLEM.) - FUNDAMENTAL',\n",
    "'MAIS EDUCAï¿½ï¿½O (PARC. COMPLEM.) - INDï¿½GENA',\n",
    "'MAIS EDUCAï¿½ï¿½O (PARC. COMPLEM.) - QUILOMBOLA',\n",
    "'PRï¿½-ESCOLA',\n",
    "'QUILOMBOLA']"
   ]
  },
  {
   "cell_type": "code",
   "execution_count": null,
   "metadata": {
    "ExecuteTime": {
     "end_time": "2021-06-03T22:02:23.181853Z",
     "start_time": "2021-06-03T22:02:23.158893Z"
    }
   },
   "outputs": [],
   "source": [
    "base.groupby('ESTADO').mean()"
   ]
  },
  {
   "cell_type": "code",
   "execution_count": null,
   "metadata": {
    "ExecuteTime": {
     "end_time": "2021-06-03T21:40:30.565826Z",
     "start_time": "2021-06-03T21:40:27.748873Z"
    }
   },
   "outputs": [],
   "source": [
    "sns.set_theme(style=\"white\")\n",
    "corr =base.corr()\n",
    "plt.figure(figsize=(16, 6))\n",
    "heatmap = sns.heatmap(corr, vmin=-1, vmax=1, annot=True, cmap='RdBu')\n",
    "heatmap.set_title('Correlation Heatmap', fontdict={'fontsize':18}, pad=12);\n",
    "# save heatmap as .png file\n",
    "# dpi - sets the resolution of the saved image in dots/inches\n",
    "# bbox_inches - when set to 'tight' - does not allow the labels to be cropped\n",
    "plt.savefig('heatmap.png', dpi=300, bbox_inches='tight')"
   ]
  },
  {
   "cell_type": "code",
   "execution_count": null,
   "metadata": {
    "ExecuteTime": {
     "end_time": "2021-06-03T22:00:14.792620Z",
     "start_time": "2021-06-03T22:00:14.784687Z"
    }
   },
   "outputs": [],
   "source": [
    "campos = ['CRECHE', 'ESTADO']"
   ]
  },
  {
   "cell_type": "code",
   "execution_count": null,
   "metadata": {
    "ExecuteTime": {
     "end_time": "2021-06-03T22:00:15.560989Z",
     "start_time": "2021-06-03T22:00:15.152672Z"
    }
   },
   "outputs": [],
   "source": [
    "X = base[campos]\n",
    "X.boxplot(by='ESTADO')"
   ]
  },
  {
   "cell_type": "code",
   "execution_count": null,
   "metadata": {
    "ExecuteTime": {
     "end_time": "2021-06-03T21:52:31.042827Z",
     "start_time": "2021-06-03T21:52:30.777194Z"
    }
   },
   "outputs": [],
   "source": [
    "plt.scatter(X.iloc[0], X.iloc[1])\n",
    "plt.grid()\n",
    "plt.tight_layout()\n",
    "plt.savefig('scatter.png', dpi=300)\n",
    "plt.show()"
   ]
  },
  {
   "cell_type": "code",
   "execution_count": null,
   "metadata": {
    "ExecuteTime": {
     "end_time": "2021-06-03T21:44:14.587425Z",
     "start_time": "2021-06-03T21:44:14.577452Z"
    }
   },
   "outputs": [],
   "source": [
    "km = KMeans(n_clusters=5,init='k-means++',n_init=10,max_iter=300,random_state=21)"
   ]
  },
  {
   "cell_type": "code",
   "execution_count": null,
   "metadata": {
    "ExecuteTime": {
     "end_time": "2021-06-03T21:44:17.353264Z",
     "start_time": "2021-06-03T21:44:17.342305Z"
    }
   },
   "outputs": [],
   "source": [
    "#scaler = StandardScaler()\n",
    "scaler = MinMaxScaler()"
   ]
  },
  {
   "cell_type": "code",
   "execution_count": null,
   "metadata": {
    "ExecuteTime": {
     "end_time": "2021-06-03T21:44:20.173475Z",
     "start_time": "2021-06-03T21:44:20.152523Z"
    }
   },
   "outputs": [],
   "source": [
    "X_std = scaler.fit_transform(X)\n",
    "X_std"
   ]
  },
  {
   "cell_type": "code",
   "execution_count": null,
   "metadata": {
    "ExecuteTime": {
     "end_time": "2021-06-03T21:44:21.947763Z",
     "start_time": "2021-06-03T21:44:21.875958Z"
    }
   },
   "outputs": [],
   "source": [
    "y_km = km.fit_predict(X_std)"
   ]
  },
  {
   "cell_type": "code",
   "execution_count": null,
   "metadata": {
    "ExecuteTime": {
     "end_time": "2021-06-03T21:44:23.055987Z",
     "start_time": "2021-06-03T21:44:23.044024Z"
    }
   },
   "outputs": [],
   "source": [
    "print('Inércia: %.2f' % km.inertia_)"
   ]
  },
  {
   "cell_type": "code",
   "execution_count": null,
   "metadata": {
    "ExecuteTime": {
     "end_time": "2021-06-03T21:44:27.878647Z",
     "start_time": "2021-06-03T21:44:26.229192Z"
    }
   },
   "outputs": [],
   "source": [
    "inercia = []\n",
    "for i in range(1, 16):\n",
    "    km = KMeans(n_clusters=i, \n",
    "                init='k-means++', \n",
    "                n_init=10, \n",
    "                max_iter=300, \n",
    "                random_state=21)\n",
    "    km.fit(X)\n",
    "    inercia.append(km.inertia_)\n",
    "plt.plot(range(1, 16), inercia, marker='o')\n",
    "plt.xlabel('Number of clusters')\n",
    "plt.ylabel('Inércia')\n",
    "plt.tight_layout()\n",
    "#plt.savefig('images/11_03.png', dpi=300)\n",
    "plt.show()"
   ]
  },
  {
   "cell_type": "code",
   "execution_count": null,
   "metadata": {
    "ExecuteTime": {
     "end_time": "2021-06-03T21:44:43.306493Z",
     "start_time": "2021-06-03T21:44:33.435165Z"
    }
   },
   "outputs": [],
   "source": [
    "import numpy as np\n",
    "from matplotlib import cm\n",
    "from sklearn.metrics import silhouette_samples\n",
    "\n",
    "km = KMeans(n_clusters=7, \n",
    "            init='k-means++', \n",
    "            n_init=10, \n",
    "            max_iter=300,\n",
    "            tol=1e-04,\n",
    "            random_state=21)\n",
    "y_km = km.fit_predict(X)\n",
    "\n",
    "cluster_labels = np.unique(y_km)\n",
    "n_clusters = cluster_labels.shape[0]\n",
    "silhouette_vals = silhouette_samples(X, y_km, metric='euclidean')\n",
    "y_ax_lower, y_ax_upper = 0, 0\n",
    "yticks = []\n",
    "for i, c in enumerate(cluster_labels):\n",
    "    c_silhouette_vals = silhouette_vals[y_km == c]\n",
    "    c_silhouette_vals.sort()\n",
    "    y_ax_upper += len(c_silhouette_vals)\n",
    "    color = cm.jet(float(i) / n_clusters)\n",
    "    plt.barh(range(y_ax_lower, y_ax_upper), c_silhouette_vals, height=1.0, \n",
    "             edgecolor='none', color=color)\n",
    "\n",
    "    yticks.append((y_ax_lower + y_ax_upper) / 2.)\n",
    "    y_ax_lower += len(c_silhouette_vals)\n",
    "    \n",
    "silhouette_avg = np.mean(silhouette_vals)\n",
    "plt.axvline(silhouette_avg, color=\"red\", linestyle=\"--\") \n",
    "\n",
    "plt.yticks(yticks, cluster_labels + 1)\n",
    "plt.ylabel('Cluster')\n",
    "plt.xlabel('Silhouette coefficient')\n",
    "\n",
    "plt.tight_layout()\n",
    "plt.savefig('11_04.png', dpi=300)\n",
    "plt.show()"
   ]
  },
  {
   "cell_type": "code",
   "execution_count": null,
   "metadata": {},
   "outputs": [],
   "source": []
  }
 ],
 "metadata": {
  "kernelspec": {
   "display_name": "Python 3",
   "language": "python",
   "name": "python3"
  },
  "language_info": {
   "codemirror_mode": {
    "name": "ipython",
    "version": 3
   },
   "file_extension": ".py",
   "mimetype": "text/x-python",
   "name": "python",
   "nbconvert_exporter": "python",
   "pygments_lexer": "ipython3",
   "version": "3.8.5"
  },
  "varInspector": {
   "cols": {
    "lenName": 16,
    "lenType": 16,
    "lenVar": 40
   },
   "kernels_config": {
    "python": {
     "delete_cmd_postfix": "",
     "delete_cmd_prefix": "del ",
     "library": "var_list.py",
     "varRefreshCmd": "print(var_dic_list())"
    },
    "r": {
     "delete_cmd_postfix": ") ",
     "delete_cmd_prefix": "rm(",
     "library": "var_list.r",
     "varRefreshCmd": "cat(var_dic_list()) "
    }
   },
   "types_to_exclude": [
    "module",
    "function",
    "builtin_function_or_method",
    "instance",
    "_Feature"
   ],
   "window_display": false
  }
 },
 "nbformat": 4,
 "nbformat_minor": 4
}
