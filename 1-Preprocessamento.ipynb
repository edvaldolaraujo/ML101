{
 "cells": [
  {
   "cell_type": "markdown",
   "metadata": {
    "collapsed": true
   },
   "source": [
    "# Pre-processamento de Dados\n",
    "\n",
    "Preparando o arquivo antes de submetê-lo a processo de Machine Learning.<BR>\n",
    "Para este experimento estamos usando como conjunto de dados uma basepúblicos do governo brasileiro disponível no site www.dados.gov.br. <BR>\n",
    "O arquivo que usaremos pode ser acessado em: ftp://ftp2.fnde.gov.br/dadosabertos/PNAE/PNAE_RECURSOS_REPASSADOS_2018.csv e trata-se de uma base com dados de Recursos Repassados em 2018 para atendimento do PNAE."
   ]
  },
  {
   "cell_type": "markdown",
   "metadata": {},
   "source": [
    "## Introdução\n",
    "Este trabalho de pré-processamento tende a ser o mais demorado de todo o workflow de Machine Learning.<BR>\n",
    "Aqui passaremos pelas seguintes etapas:\n",
    "* Entender as variáveis que necessitamos estudar, buscando conhecer suas características e natureza dos dados.\n",
    "* Lidar com casos de exceção, como por exemplo missing e outliers.\n",
    "* Aplicar Análise Exploratória de Dados. \n",
    "* Aplicar Feature Engineering\n"
   ]
  },
  {
   "cell_type": "markdown",
   "metadata": {},
   "source": [
    "## Passo #1 - Entender as variáveis"
   ]
  },
  {
   "cell_type": "markdown",
   "metadata": {},
   "source": [
    "Em primeiro lugar importe o pacote `pandas`e Carregue o arquivo para a memória.<br>\n",
    "Para esta tarefa verifique qual o caracter delimitador do arquivo (`sep`), qual o `encoding`, qual o caracter de casas decimais (`decimal`) se o arquivo tem cabeçalho (`header`)."
   ]
  },
  {
   "cell_type": "code",
   "execution_count": 1,
   "metadata": {},
   "outputs": [],
   "source": [
    "import pandas as pd"
   ]
  },
  {
   "cell_type": "code",
   "execution_count": 2,
   "metadata": {},
   "outputs": [],
   "source": [
    "original = pd.read_csv('datasets/PNAE_RECURSOS_REPASSADOS_2018_v2.csv', sep=';', encoding='utf-8', decimal=',', header=0)"
   ]
  },
  {
   "cell_type": "markdown",
   "metadata": {},
   "source": [
    "Uma vez carregado para a memória comece a explorar a estrutura do arquivo. Veja qual é o tipo das variáveis, se as bases são iguais em todas elas.\n",
    "Ao explorar os dados, comece a tomar nota das suas observações, por exemplo bases de cada variável, quais possuem casos missings. <br>Essa também é uma fase exploratória e importante para direcionar os proximos passos."
   ]
  },
  {
   "cell_type": "code",
   "execution_count": 3,
   "metadata": {},
   "outputs": [
    {
     "data": {
      "text/plain": [
       "(27396, 6)"
      ]
     },
     "execution_count": 3,
     "metadata": {},
     "output_type": "execute_result"
    }
   ],
   "source": [
    "# Mostrar o formato do arquivo\n",
    "original.shape"
   ]
  },
  {
   "cell_type": "code",
   "execution_count": 389,
   "metadata": {},
   "outputs": [
    {
     "data": {
      "text/html": [
       "<div>\n",
       "<style scoped>\n",
       "    .dataframe tbody tr th:only-of-type {\n",
       "        vertical-align: middle;\n",
       "    }\n",
       "\n",
       "    .dataframe tbody tr th {\n",
       "        vertical-align: top;\n",
       "    }\n",
       "\n",
       "    .dataframe thead th {\n",
       "        text-align: right;\n",
       "    }\n",
       "</style>\n",
       "<table border=\"1\" class=\"dataframe\">\n",
       "  <thead>\n",
       "    <tr style=\"text-align: right;\">\n",
       "      <th></th>\n",
       "      <th>#ANO</th>\n",
       "      <th>ESTADO</th>\n",
       "      <th>MUNICIPIO</th>\n",
       "      <th>ESFERA_GOVERNO</th>\n",
       "      <th>MODALIDADE_ENSINO</th>\n",
       "      <th>VALOR_TOTAL_ESCOLAS_PNAE</th>\n",
       "    </tr>\n",
       "  </thead>\n",
       "  <tbody>\n",
       "    <tr>\n",
       "      <th>0</th>\n",
       "      <td>2018.0</td>\n",
       "      <td>AC</td>\n",
       "      <td>ACRELANDIA</td>\n",
       "      <td>MUNICIPAL</td>\n",
       "      <td>ATENDIMENTO EDUCACIONAL ESPECIALIZADO (AEE)</td>\n",
       "      <td>4346.0</td>\n",
       "    </tr>\n",
       "    <tr>\n",
       "      <th>1</th>\n",
       "      <td>2018.0</td>\n",
       "      <td>AC</td>\n",
       "      <td>ACRELANDIA</td>\n",
       "      <td>MUNICIPAL</td>\n",
       "      <td>CRECHE</td>\n",
       "      <td>63986.0</td>\n",
       "    </tr>\n",
       "    <tr>\n",
       "      <th>2</th>\n",
       "      <td>2018.0</td>\n",
       "      <td>AC</td>\n",
       "      <td>ACRELANDIA</td>\n",
       "      <td>MUNICIPAL</td>\n",
       "      <td>EJA</td>\n",
       "      <td>9024.0</td>\n",
       "    </tr>\n",
       "    <tr>\n",
       "      <th>3</th>\n",
       "      <td>2018.0</td>\n",
       "      <td>AC</td>\n",
       "      <td>ACRELANDIA</td>\n",
       "      <td>MUNICIPAL</td>\n",
       "      <td>ENSINO FUNDAMENTAL</td>\n",
       "      <td>119752.0</td>\n",
       "    </tr>\n",
       "    <tr>\n",
       "      <th>4</th>\n",
       "      <td>2018.0</td>\n",
       "      <td>AC</td>\n",
       "      <td>ACRELANDIA</td>\n",
       "      <td>MUNICIPAL</td>\n",
       "      <td>PRï¿½-ESCOLA</td>\n",
       "      <td>47110.0</td>\n",
       "    </tr>\n",
       "  </tbody>\n",
       "</table>\n",
       "</div>"
      ],
      "text/plain": [
       "     #ANO ESTADO   MUNICIPIO ESFERA_GOVERNO  \\\n",
       "0  2018.0     AC  ACRELANDIA      MUNICIPAL   \n",
       "1  2018.0     AC  ACRELANDIA      MUNICIPAL   \n",
       "2  2018.0     AC  ACRELANDIA      MUNICIPAL   \n",
       "3  2018.0     AC  ACRELANDIA      MUNICIPAL   \n",
       "4  2018.0     AC  ACRELANDIA      MUNICIPAL   \n",
       "\n",
       "                             MODALIDADE_ENSINO  VALOR_TOTAL_ESCOLAS_PNAE  \n",
       "0  ATENDIMENTO EDUCACIONAL ESPECIALIZADO (AEE)                    4346.0  \n",
       "1                                       CRECHE                   63986.0  \n",
       "2                                          EJA                    9024.0  \n",
       "3                           ENSINO FUNDAMENTAL                  119752.0  \n",
       "4                                 PRï¿½-ESCOLA                   47110.0  "
      ]
     },
     "execution_count": 389,
     "metadata": {},
     "output_type": "execute_result"
    }
   ],
   "source": [
    "original.head(5)"
   ]
  },
  {
   "cell_type": "code",
   "execution_count": 4,
   "metadata": {},
   "outputs": [
    {
     "name": "stdout",
     "output_type": "stream",
     "text": [
      "<class 'pandas.core.frame.DataFrame'>\n",
      "RangeIndex: 27396 entries, 0 to 27395\n",
      "Data columns (total 6 columns):\n",
      " #   Column                    Non-Null Count  Dtype  \n",
      "---  ------                    --------------  -----  \n",
      " 0   #ANO                      27395 non-null  float64\n",
      " 1   ESTADO                    27396 non-null  object \n",
      " 2   MUNICIPIO                 27396 non-null  object \n",
      " 3   ESFERA_GOVERNO            27396 non-null  object \n",
      " 4   MODALIDADE_ENSINO         27395 non-null  object \n",
      " 5   VALOR_TOTAL_ESCOLAS_PNAE  27394 non-null  float64\n",
      "dtypes: float64(2), object(4)\n",
      "memory usage: 1.3+ MB\n"
     ]
    }
   ],
   "source": [
    "# Mostrar a estrutura do arquivo\n",
    "original.info()"
   ]
  },
  {
   "cell_type": "code",
   "execution_count": 5,
   "metadata": {},
   "outputs": [
    {
     "data": {
      "text/html": [
       "<div>\n",
       "<style scoped>\n",
       "    .dataframe tbody tr th:only-of-type {\n",
       "        vertical-align: middle;\n",
       "    }\n",
       "\n",
       "    .dataframe tbody tr th {\n",
       "        vertical-align: top;\n",
       "    }\n",
       "\n",
       "    .dataframe thead th {\n",
       "        text-align: right;\n",
       "    }\n",
       "</style>\n",
       "<table border=\"1\" class=\"dataframe\">\n",
       "  <thead>\n",
       "    <tr style=\"text-align: right;\">\n",
       "      <th></th>\n",
       "      <th>VALOR_TOTAL_ESCOLAS_PNAE</th>\n",
       "    </tr>\n",
       "  </thead>\n",
       "  <tbody>\n",
       "    <tr>\n",
       "      <th>count</th>\n",
       "      <td>2.739400e+04</td>\n",
       "    </tr>\n",
       "    <tr>\n",
       "      <th>mean</th>\n",
       "      <td>1.467027e+05</td>\n",
       "    </tr>\n",
       "    <tr>\n",
       "      <th>std</th>\n",
       "      <td>1.427135e+06</td>\n",
       "    </tr>\n",
       "    <tr>\n",
       "      <th>min</th>\n",
       "      <td>-1.000000e+00</td>\n",
       "    </tr>\n",
       "    <tr>\n",
       "      <th>25%</th>\n",
       "      <td>8.374000e+03</td>\n",
       "    </tr>\n",
       "    <tr>\n",
       "      <th>50%</th>\n",
       "      <td>2.544900e+04</td>\n",
       "    </tr>\n",
       "    <tr>\n",
       "      <th>75%</th>\n",
       "      <td>7.430750e+04</td>\n",
       "    </tr>\n",
       "    <tr>\n",
       "      <th>max</th>\n",
       "      <td>1.104082e+08</td>\n",
       "    </tr>\n",
       "  </tbody>\n",
       "</table>\n",
       "</div>"
      ],
      "text/plain": [
       "       VALOR_TOTAL_ESCOLAS_PNAE\n",
       "count              2.739400e+04\n",
       "mean               1.467027e+05\n",
       "std                1.427135e+06\n",
       "min               -1.000000e+00\n",
       "25%                8.374000e+03\n",
       "50%                2.544900e+04\n",
       "75%                7.430750e+04\n",
       "max                1.104082e+08"
      ]
     },
     "execution_count": 5,
     "metadata": {},
     "output_type": "execute_result"
    }
   ],
   "source": [
    "# Descrição das variáveis numéricas\n",
    "original[['VALOR_TOTAL_ESCOLAS_PNAE']].describe()"
   ]
  },
  {
   "cell_type": "code",
   "execution_count": 6,
   "metadata": {
    "scrolled": true
   },
   "outputs": [
    {
     "data": {
      "text/html": [
       "<div>\n",
       "<style scoped>\n",
       "    .dataframe tbody tr th:only-of-type {\n",
       "        vertical-align: middle;\n",
       "    }\n",
       "\n",
       "    .dataframe tbody tr th {\n",
       "        vertical-align: top;\n",
       "    }\n",
       "\n",
       "    .dataframe thead th {\n",
       "        text-align: right;\n",
       "    }\n",
       "</style>\n",
       "<table border=\"1\" class=\"dataframe\">\n",
       "  <thead>\n",
       "    <tr style=\"text-align: right;\">\n",
       "      <th></th>\n",
       "      <th>#ANO</th>\n",
       "      <th>ESTADO</th>\n",
       "      <th>MUNICIPIO</th>\n",
       "      <th>ESFERA_GOVERNO</th>\n",
       "      <th>MODALIDADE_ENSINO</th>\n",
       "      <th>VALOR_TOTAL_ESCOLAS_PNAE</th>\n",
       "    </tr>\n",
       "  </thead>\n",
       "  <tbody>\n",
       "    <tr>\n",
       "      <th>0</th>\n",
       "      <td>2018.0</td>\n",
       "      <td>MG</td>\n",
       "      <td>BONITO</td>\n",
       "      <td>MUNICIPAL</td>\n",
       "      <td>ENSINO FUNDAMENTAL</td>\n",
       "      <td>636.0</td>\n",
       "    </tr>\n",
       "    <tr>\n",
       "      <th>1</th>\n",
       "      <td>NaN</td>\n",
       "      <td>NaN</td>\n",
       "      <td>NaN</td>\n",
       "      <td>NaN</td>\n",
       "      <td>NaN</td>\n",
       "      <td>742.0</td>\n",
       "    </tr>\n",
       "  </tbody>\n",
       "</table>\n",
       "</div>"
      ],
      "text/plain": [
       "     #ANO ESTADO MUNICIPIO ESFERA_GOVERNO   MODALIDADE_ENSINO  \\\n",
       "0  2018.0     MG    BONITO      MUNICIPAL  ENSINO FUNDAMENTAL   \n",
       "1     NaN    NaN       NaN            NaN                 NaN   \n",
       "\n",
       "   VALOR_TOTAL_ESCOLAS_PNAE  \n",
       "0                     636.0  \n",
       "1                     742.0  "
      ]
     },
     "execution_count": 6,
     "metadata": {},
     "output_type": "execute_result"
    }
   ],
   "source": [
    "# Verifique os valores mais tipicos (moda)\n",
    "original.mode()"
   ]
  },
  {
   "cell_type": "markdown",
   "metadata": {},
   "source": [
    "### Explore as varáveis\n",
    "Comece a explorar agrupamentos entre as variáveis. <br>\n",
    "Teste o `groupby` mudando a variavel e veja a quantidade dentro das demais variáveis. Perceba se há valores atipicos quando você cruza as variáveis.<br>Lembre sempre da base total para validar existência de casos missing.<br>\n",
    "**Anote suas obervações.**"
   ]
  },
  {
   "cell_type": "code",
   "execution_count": 7,
   "metadata": {},
   "outputs": [
    {
     "data": {
      "text/html": [
       "<div>\n",
       "<style scoped>\n",
       "    .dataframe tbody tr th:only-of-type {\n",
       "        vertical-align: middle;\n",
       "    }\n",
       "\n",
       "    .dataframe tbody tr th {\n",
       "        vertical-align: top;\n",
       "    }\n",
       "\n",
       "    .dataframe thead th {\n",
       "        text-align: right;\n",
       "    }\n",
       "</style>\n",
       "<table border=\"1\" class=\"dataframe\">\n",
       "  <thead>\n",
       "    <tr style=\"text-align: right;\">\n",
       "      <th></th>\n",
       "      <th>#ANO</th>\n",
       "      <th>ESTADO</th>\n",
       "      <th>MUNICIPIO</th>\n",
       "      <th>ESFERA_GOVERNO</th>\n",
       "      <th>VALOR_TOTAL_ESCOLAS_PNAE</th>\n",
       "    </tr>\n",
       "    <tr>\n",
       "      <th>MODALIDADE_ENSINO</th>\n",
       "      <th></th>\n",
       "      <th></th>\n",
       "      <th></th>\n",
       "      <th></th>\n",
       "      <th></th>\n",
       "    </tr>\n",
       "  </thead>\n",
       "  <tbody>\n",
       "    <tr>\n",
       "      <th>0</th>\n",
       "      <td>1</td>\n",
       "      <td>1</td>\n",
       "      <td>1</td>\n",
       "      <td>1</td>\n",
       "      <td>0</td>\n",
       "    </tr>\n",
       "    <tr>\n",
       "      <th>ATENDIMENTO EDUCACIONAL ESPECIALIZADO (AEE)</th>\n",
       "      <td>3677</td>\n",
       "      <td>3677</td>\n",
       "      <td>3677</td>\n",
       "      <td>3677</td>\n",
       "      <td>3677</td>\n",
       "    </tr>\n",
       "    <tr>\n",
       "      <th>CRECHE</th>\n",
       "      <td>5227</td>\n",
       "      <td>5227</td>\n",
       "      <td>5227</td>\n",
       "      <td>5227</td>\n",
       "      <td>5227</td>\n",
       "    </tr>\n",
       "    <tr>\n",
       "      <th>EJA</th>\n",
       "      <td>4001</td>\n",
       "      <td>4001</td>\n",
       "      <td>4001</td>\n",
       "      <td>4001</td>\n",
       "      <td>4001</td>\n",
       "    </tr>\n",
       "    <tr>\n",
       "      <th>ENSINO FUNDAMENTAL</th>\n",
       "      <td>5524</td>\n",
       "      <td>5524</td>\n",
       "      <td>5524</td>\n",
       "      <td>5524</td>\n",
       "      <td>5524</td>\n",
       "    </tr>\n",
       "    <tr>\n",
       "      <th>ENSINO Mï¿½DIO</th>\n",
       "      <td>1009</td>\n",
       "      <td>1009</td>\n",
       "      <td>1009</td>\n",
       "      <td>1009</td>\n",
       "      <td>1009</td>\n",
       "    </tr>\n",
       "    <tr>\n",
       "      <th>ENSINO Mï¿½DIO INTEGRAL</th>\n",
       "      <td>52</td>\n",
       "      <td>52</td>\n",
       "      <td>52</td>\n",
       "      <td>52</td>\n",
       "      <td>52</td>\n",
       "    </tr>\n",
       "    <tr>\n",
       "      <th>INDï¿½GENA</th>\n",
       "      <td>239</td>\n",
       "      <td>239</td>\n",
       "      <td>239</td>\n",
       "      <td>239</td>\n",
       "      <td>239</td>\n",
       "    </tr>\n",
       "    <tr>\n",
       "      <th>MAIS EDUCAï¿½ï¿½O (PARC. COMPLEM.) - FUNDAMENTAL</th>\n",
       "      <td>1400</td>\n",
       "      <td>1400</td>\n",
       "      <td>1400</td>\n",
       "      <td>1400</td>\n",
       "      <td>1400</td>\n",
       "    </tr>\n",
       "    <tr>\n",
       "      <th>MAIS EDUCAï¿½ï¿½O (PARC. COMPLEM.) - INDï¿½GENA</th>\n",
       "      <td>16</td>\n",
       "      <td>16</td>\n",
       "      <td>16</td>\n",
       "      <td>16</td>\n",
       "      <td>16</td>\n",
       "    </tr>\n",
       "    <tr>\n",
       "      <th>MAIS EDUCAï¿½ï¿½O (PARC. COMPLEM.) - QUILOMBOLA</th>\n",
       "      <td>101</td>\n",
       "      <td>101</td>\n",
       "      <td>101</td>\n",
       "      <td>101</td>\n",
       "      <td>101</td>\n",
       "    </tr>\n",
       "    <tr>\n",
       "      <th>PRï¿½-ESCOLA</th>\n",
       "      <td>5520</td>\n",
       "      <td>5520</td>\n",
       "      <td>5520</td>\n",
       "      <td>5520</td>\n",
       "      <td>5520</td>\n",
       "    </tr>\n",
       "    <tr>\n",
       "      <th>QUILOMBOLA</th>\n",
       "      <td>627</td>\n",
       "      <td>627</td>\n",
       "      <td>627</td>\n",
       "      <td>627</td>\n",
       "      <td>627</td>\n",
       "    </tr>\n",
       "    <tr>\n",
       "      <th>TESTE</th>\n",
       "      <td>0</td>\n",
       "      <td>1</td>\n",
       "      <td>1</td>\n",
       "      <td>1</td>\n",
       "      <td>1</td>\n",
       "    </tr>\n",
       "  </tbody>\n",
       "</table>\n",
       "</div>"
      ],
      "text/plain": [
       "                                                  #ANO  ESTADO  MUNICIPIO  \\\n",
       "MODALIDADE_ENSINO                                                           \n",
       "0                                                    1       1          1   \n",
       "ATENDIMENTO EDUCACIONAL ESPECIALIZADO (AEE)       3677    3677       3677   \n",
       "CRECHE                                            5227    5227       5227   \n",
       "EJA                                               4001    4001       4001   \n",
       "ENSINO FUNDAMENTAL                                5524    5524       5524   \n",
       "ENSINO Mï¿½DIO                                    1009    1009       1009   \n",
       "ENSINO Mï¿½DIO INTEGRAL                             52      52         52   \n",
       "INDï¿½GENA                                         239     239        239   \n",
       "MAIS EDUCAï¿½ï¿½O (PARC. COMPLEM.) - FUNDAMENTAL  1400    1400       1400   \n",
       "MAIS EDUCAï¿½ï¿½O (PARC. COMPLEM.) - INDï¿½GENA     16      16         16   \n",
       "MAIS EDUCAï¿½ï¿½O (PARC. COMPLEM.) - QUILOMBOLA    101     101        101   \n",
       "PRï¿½-ESCOLA                                      5520    5520       5520   \n",
       "QUILOMBOLA                                         627     627        627   \n",
       "TESTE                                                0       1          1   \n",
       "\n",
       "                                                  ESFERA_GOVERNO  \\\n",
       "MODALIDADE_ENSINO                                                  \n",
       "0                                                              1   \n",
       "ATENDIMENTO EDUCACIONAL ESPECIALIZADO (AEE)                 3677   \n",
       "CRECHE                                                      5227   \n",
       "EJA                                                         4001   \n",
       "ENSINO FUNDAMENTAL                                          5524   \n",
       "ENSINO Mï¿½DIO                                              1009   \n",
       "ENSINO Mï¿½DIO INTEGRAL                                       52   \n",
       "INDï¿½GENA                                                   239   \n",
       "MAIS EDUCAï¿½ï¿½O (PARC. COMPLEM.) - FUNDAMENTAL            1400   \n",
       "MAIS EDUCAï¿½ï¿½O (PARC. COMPLEM.) - INDï¿½GENA               16   \n",
       "MAIS EDUCAï¿½ï¿½O (PARC. COMPLEM.) - QUILOMBOLA              101   \n",
       "PRï¿½-ESCOLA                                                5520   \n",
       "QUILOMBOLA                                                   627   \n",
       "TESTE                                                          1   \n",
       "\n",
       "                                                  VALOR_TOTAL_ESCOLAS_PNAE  \n",
       "MODALIDADE_ENSINO                                                           \n",
       "0                                                                        0  \n",
       "ATENDIMENTO EDUCACIONAL ESPECIALIZADO (AEE)                           3677  \n",
       "CRECHE                                                                5227  \n",
       "EJA                                                                   4001  \n",
       "ENSINO FUNDAMENTAL                                                    5524  \n",
       "ENSINO Mï¿½DIO                                                        1009  \n",
       "ENSINO Mï¿½DIO INTEGRAL                                                 52  \n",
       "INDï¿½GENA                                                             239  \n",
       "MAIS EDUCAï¿½ï¿½O (PARC. COMPLEM.) - FUNDAMENTAL                      1400  \n",
       "MAIS EDUCAï¿½ï¿½O (PARC. COMPLEM.) - INDï¿½GENA                         16  \n",
       "MAIS EDUCAï¿½ï¿½O (PARC. COMPLEM.) - QUILOMBOLA                        101  \n",
       "PRï¿½-ESCOLA                                                          5520  \n",
       "QUILOMBOLA                                                             627  \n",
       "TESTE                                                                    1  "
      ]
     },
     "execution_count": 7,
     "metadata": {},
     "output_type": "execute_result"
    }
   ],
   "source": [
    "# agrupando por uma variável do conjunto de dados\n",
    "original.groupby(['MODALIDADE_ENSINO']).count() # resultado em Counts0\n",
    "#round(((original.groupby(['ESFERA_GOVERNO']).count()/original.shape[0])*100),1) # # resultado em Counts"
   ]
  },
  {
   "cell_type": "code",
   "execution_count": 8,
   "metadata": {},
   "outputs": [
    {
     "name": "stdout",
     "output_type": "stream",
     "text": [
      "Avaliando distribuições... ESTADO\n",
      "MG    3488\n",
      "SP    3447\n",
      "BA    2433\n",
      "RS    2158\n",
      "PR    1949\n",
      "MA    1306\n",
      "SC    1190\n",
      "PB    1113\n",
      "PI    1092\n",
      "PE    1028\n",
      "PA    1014\n",
      "GO     964\n",
      "CE     952\n",
      "RN     870\n",
      "MT     609\n",
      "AL     607\n",
      "TO     576\n",
      "RJ     503\n",
      "SE     411\n",
      "MS     405\n",
      "ES     390\n",
      "AM     360\n",
      "RO     238\n",
      "AC     121\n",
      "AP      89\n",
      "RR      72\n",
      "DF       8\n",
      "TT       2\n",
      "XX       1\n",
      "Name: ESTADO, dtype: int64\n",
      "\n",
      "Avaliando distribuições... ESFERA_GOVERNO\n",
      "MUNICIPAL    27157\n",
      "ESTADUAL       236\n",
      "TESTE            2\n",
      "TESTE1           1\n",
      "Name: ESFERA_GOVERNO, dtype: int64\n",
      "\n",
      "Avaliando distribuições... MODALIDADE_ENSINO\n",
      "ENSINO FUNDAMENTAL                                  5524\n",
      "PRï¿½-ESCOLA                                        5520\n",
      "CRECHE                                              5227\n",
      "EJA                                                 4001\n",
      "ATENDIMENTO EDUCACIONAL ESPECIALIZADO (AEE)         3677\n",
      "MAIS EDUCAï¿½ï¿½O (PARC. COMPLEM.) - FUNDAMENTAL    1400\n",
      "ENSINO Mï¿½DIO                                      1009\n",
      "QUILOMBOLA                                           627\n",
      "INDï¿½GENA                                           239\n",
      "MAIS EDUCAï¿½ï¿½O (PARC. COMPLEM.) - QUILOMBOLA      101\n",
      "ENSINO Mï¿½DIO INTEGRAL                               52\n",
      "MAIS EDUCAï¿½ï¿½O (PARC. COMPLEM.) - INDï¿½GENA       16\n",
      "0                                                      1\n",
      "TESTE                                                  1\n",
      "Name: MODALIDADE_ENSINO, dtype: int64\n",
      "\n"
     ]
    }
   ],
   "source": [
    "# Ditribuições Variáveis quantitativas\n",
    "campos = ['ESTADO', 'ESFERA_GOVERNO', 'MODALIDADE_ENSINO']\n",
    "for campo in campos:\n",
    "    print('Avaliando distribuições...', campo)\n",
    "    print(original[campo].value_counts())\n",
    "    print()"
   ]
  },
  {
   "cell_type": "markdown",
   "metadata": {},
   "source": [
    "## Passo #2 - Tratar casos com dados átipicos e missing"
   ]
  },
  {
   "cell_type": "markdown",
   "metadata": {},
   "source": [
    "Neste momento você deve ter percebido algumas inconsistências entre os dados: valores atípicos e missing.<br>\n",
    "Pode ser uma boa prática já tratar esses casos.\n",
    "\n",
    "Para os casos missing, há alguns passos que podem ser seguidos:\n",
    "1. Remover a linha com algum caso missing.\n",
    "2. Remover a coluna com algum caso missing, principalmente se tiver muita concentração na mesma coluna.\n",
    "3. Substituir por algum valor alinhado com os demais envolvidos no projeto: média, moda e etc. \n",
    "\n",
    "Para os casos atípicos, há três caminhos:\n",
    "1. Tentar corrigir sempre que possivel.\n",
    "2. Remover as linhas ou colunas com valores atípicos.\n",
    "3. Separar esses casos em um outro conjunto de dados e proceder com uma análise distinta. \n",
    "\n",
    "**Importante:** nunca altere o dado original, mas faças as operações necessárias em uma cópia do seu conjunto de dados. Esta é uma boa prática para manter a rastreabilidade.\n",
    "\n",
    "Você pode fazer todos os tratamentos aqui usando `Python`, ou seja, não é necessário fazer os passos acima em outra ferramenta."
   ]
  },
  {
   "cell_type": "markdown",
   "metadata": {},
   "source": [
    "### Exemplos de tratamento de dados"
   ]
  },
  {
   "cell_type": "markdown",
   "metadata": {},
   "source": [
    "Exemplo de como remover **linhas duplicadas**"
   ]
  },
  {
   "cell_type": "code",
   "execution_count": null,
   "metadata": {},
   "outputs": [],
   "source": [
    "base_interim = original.drop_duplicates()\n",
    "print('Base Interim vs Base Original', base_interim.shape, original.shape, '--> Diferença:',original.shape[0]-base_interim.shape[0], 'registros' )"
   ]
  },
  {
   "cell_type": "markdown",
   "metadata": {},
   "source": [
    "Exemplo de como **remover linhas baseado em uma condição**"
   ]
  },
  {
   "cell_type": "code",
   "execution_count": null,
   "metadata": {},
   "outputs": [],
   "source": [
    "base_interim = original.drop(original[(original['ESTADO'] == 'XX') | (original['ESTADO'] == 'TT') ].index)\n",
    "print('Base Interim vs Base Original', base_interim.shape, original.shape, '--> Diferença:',original.shape[0]-base_interim.shape[0], 'registros' )"
   ]
  },
  {
   "cell_type": "markdown",
   "metadata": {},
   "source": [
    "Exemplo de como remover **linhas com casos missings**"
   ]
  },
  {
   "cell_type": "code",
   "execution_count": null,
   "metadata": {},
   "outputs": [],
   "source": [
    "base_interim = original.dropna(axis=0)\n",
    "print('Base Interim vs Base Original', base_interim.shape, original.shape, '--> Diferença:',original.shape[0]-base_interim.shape[0], 'registros' )"
   ]
  },
  {
   "cell_type": "markdown",
   "metadata": {},
   "source": [
    "Exemplo de como remover **colunas com casos missings**"
   ]
  },
  {
   "cell_type": "code",
   "execution_count": null,
   "metadata": {},
   "outputs": [],
   "source": [
    "base_interim = original.dropna(axis=1)\n",
    "print('Base Interim vs Base Original', base_interim.shape, original.shape, '--> Diferença:',original.shape[1]-base_interim.shape[1], 'colunas' )"
   ]
  },
  {
   "cell_type": "markdown",
   "metadata": {},
   "source": [
    "Exemplo de como substituir variaveis númericas pela **média**."
   ]
  },
  {
   "cell_type": "code",
   "execution_count": null,
   "metadata": {},
   "outputs": [],
   "source": [
    "base_interim =  original.fillna(value=original.mean())"
   ]
  },
  {
   "cell_type": "markdown",
   "metadata": {},
   "source": [
    "Exemplo de como substituir variaveis númericas por **interpolação polinomial**. <BR>Há outro métodos como por exemplo **interpolação linear** (`method='linear'`), porém se optar por interpolação polynomial é preciso entender qual será a ordem polinomial aplicada (`order=X`). \n",
    "\n",
    "Mais detalhes em: https://pt.wikipedia.org/wiki/Interpola%C3%A7%C3%A3o_polinomial#:~:text=Denomina%2Dse%20interpola%C3%A7%C3%A3o%20polinomial%20o,fun%C3%A7%C3%A3o%20interpoladora%20%C3%A9%20a%20fun%C3%A7%C3%A3o&text=Na%20fase%20de%20escolha%20do,interpola%C3%A7%C3%A3o%2C%20frequentemente%20s%C3%A3o%20escolhidos%20polin%C3%B3mios.\n"
   ]
  },
  {
   "cell_type": "code",
   "execution_count": null,
   "metadata": {},
   "outputs": [],
   "source": [
    "base_interim =  original.interpolate(method='polynomial', order=5, axis=0)"
   ]
  },
  {
   "cell_type": "markdown",
   "metadata": {},
   "source": [
    "### Tratando casos missing e valores inválidos."
   ]
  },
  {
   "cell_type": "markdown",
   "metadata": {},
   "source": [
    "Defina a estratégia que você fará para os casos missing (remover ou substituir).<br>\n",
    "Este caso vamos remover os casos missing.\n",
    "Comece removendo os casos missing. Avalie se você quer manter colunas e remover linhas missing ou vai preferir remover a coluna inteira."
   ]
  },
  {
   "cell_type": "code",
   "execution_count": 9,
   "metadata": {},
   "outputs": [
    {
     "name": "stdout",
     "output_type": "stream",
     "text": [
      "Base Interim vs Base Original (27393, 6) (27396, 6) --> Diferença: 3 registros\n"
     ]
    }
   ],
   "source": [
    "base_interim = original.dropna(axis=0)\n",
    "print('Base Interim vs Base Original', base_interim.shape, original.shape, '--> Diferença:',original.shape[0]-base_interim.shape[0], 'registros' )"
   ]
  },
  {
   "cell_type": "code",
   "execution_count": 10,
   "metadata": {},
   "outputs": [],
   "source": [
    "# Removendo os casos duplicados\n",
    "base_interim = base_interim.drop_duplicates()"
   ]
  },
  {
   "cell_type": "markdown",
   "metadata": {},
   "source": [
    "Explore novamente as variáveis para ver o estado da base após eliminar os casos missing e atípicos."
   ]
  },
  {
   "cell_type": "code",
   "execution_count": 11,
   "metadata": {},
   "outputs": [
    {
     "name": "stdout",
     "output_type": "stream",
     "text": [
      "Avaliando... #ANO\n",
      "2018.0    27393\n",
      "Name: #ANO, dtype: int64\n",
      "\n",
      "Avaliando... ESTADO\n",
      "MG    3488\n",
      "SP    3447\n",
      "BA    2433\n",
      "RS    2158\n",
      "PR    1949\n",
      "MA    1306\n",
      "SC    1190\n",
      "PB    1113\n",
      "PI    1092\n",
      "PE    1028\n",
      "PA    1014\n",
      "GO     964\n",
      "CE     952\n",
      "RN     870\n",
      "MT     609\n",
      "AL     607\n",
      "TO     576\n",
      "RJ     503\n",
      "SE     411\n",
      "MS     405\n",
      "ES     390\n",
      "AM     360\n",
      "RO     238\n",
      "AC     121\n",
      "AP      89\n",
      "RR      72\n",
      "DF       8\n",
      "Name: ESTADO, dtype: int64\n",
      "\n",
      "Avaliando... ESFERA_GOVERNO\n",
      "MUNICIPAL    27157\n",
      "ESTADUAL       236\n",
      "Name: ESFERA_GOVERNO, dtype: int64\n",
      "\n",
      "Avaliando... MODALIDADE_ENSINO\n",
      "ENSINO FUNDAMENTAL                                  5524\n",
      "PRï¿½-ESCOLA                                        5520\n",
      "CRECHE                                              5227\n",
      "EJA                                                 4001\n",
      "ATENDIMENTO EDUCACIONAL ESPECIALIZADO (AEE)         3677\n",
      "MAIS EDUCAï¿½ï¿½O (PARC. COMPLEM.) - FUNDAMENTAL    1400\n",
      "ENSINO Mï¿½DIO                                      1009\n",
      "QUILOMBOLA                                           627\n",
      "INDï¿½GENA                                           239\n",
      "MAIS EDUCAï¿½ï¿½O (PARC. COMPLEM.) - QUILOMBOLA      101\n",
      "ENSINO Mï¿½DIO INTEGRAL                               52\n",
      "MAIS EDUCAï¿½ï¿½O (PARC. COMPLEM.) - INDï¿½GENA       16\n",
      "Name: MODALIDADE_ENSINO, dtype: int64\n",
      "\n"
     ]
    }
   ],
   "source": [
    "campos = ['#ANO', 'ESTADO', 'ESFERA_GOVERNO', 'MODALIDADE_ENSINO']\n",
    "for campo in campos:\n",
    "    print('Avaliando...', campo)\n",
    "    print(base_interim[campo].value_counts())\n",
    "    print()"
   ]
  },
  {
   "cell_type": "markdown",
   "metadata": {},
   "source": [
    "## Passo 3 - Análise Exploratória dos Dados"
   ]
  },
  {
   "cell_type": "markdown",
   "metadata": {},
   "source": [
    "Por se tratar de uma fase exploratória é uma boa prática registras as observações e testar algumas hipóteses.<br>\n",
    "Além disso, é possivel que nesta fase você perceba mais casos atípicos. Avalie o que fazer com eles, mas não esqueça de registrar tudo."
   ]
  },
  {
   "cell_type": "markdown",
   "metadata": {},
   "source": [
    "Para as variáveis **qualitativas** analise as distribuições entre as categorias. Tabelas e gráficos são bons recursos nesta etapa."
   ]
  },
  {
   "cell_type": "code",
   "execution_count": 12,
   "metadata": {},
   "outputs": [],
   "source": [
    "import matplotlib.pyplot as plt"
   ]
  },
  {
   "cell_type": "markdown",
   "metadata": {},
   "source": [
    "Criando uma função para plotar os gráficos em barras horizontais"
   ]
  },
  {
   "cell_type": "code",
   "execution_count": 13,
   "metadata": {},
   "outputs": [],
   "source": [
    "def Barras_Horizontais(var_ordem, valor_x, valor_y, titulo, base, ordem_cresc=False):\n",
    "    df_sorted= base.sort_values(var_ordem, ascending=ordem_cresc)\n",
    "    plt.barh(df_sorted[valor_x], df_sorted[ valor_y])\n",
    "    plt.suptitle(titulo)\n",
    "    plt.show()\n",
    "    "
   ]
  },
  {
   "cell_type": "markdown",
   "metadata": {},
   "source": [
    "Analisando variável: MODALIDADE_ENSINO"
   ]
  },
  {
   "cell_type": "code",
   "execution_count": 14,
   "metadata": {},
   "outputs": [
    {
     "data": {
      "image/png": "[encoded data removed]",
      "text/plain": [
       "<Figure size 432x288 with 1 Axes>"
      ]
     },
     "metadata": {
      "needs_background": "light"
     },
     "output_type": "display_data"
    }
   ],
   "source": [
    "Barras_Horizontais(base=base_interim ,\n",
    "                   var_ordem='VALOR_TOTAL_ESCOLAS_PNAE', \n",
    "                   valor_x='MODALIDADE_ENSINO', valor_y='VALOR_TOTAL_ESCOLAS_PNAE', \n",
    "                   titulo='MODALIDADE DE ENSINO',\n",
    "                   ordem_cresc=False )"
   ]
  },
  {
   "cell_type": "markdown",
   "metadata": {},
   "source": [
    "Analisando variável: ESFERA_GOVERNO"
   ]
  },
  {
   "cell_type": "code",
   "execution_count": 15,
   "metadata": {},
   "outputs": [
    {
     "data": {
      "image/png": "[encoded data removed]",
      "text/plain": [
       "<Figure size 432x288 with 1 Axes>"
      ]
     },
     "metadata": {
      "needs_background": "light"
     },
     "output_type": "display_data"
    }
   ],
   "source": [
    "Barras_Horizontais(base=base_interim ,\n",
    "                   var_ordem='VALOR_TOTAL_ESCOLAS_PNAE', \n",
    "                   valor_x='ESFERA_GOVERNO', valor_y='VALOR_TOTAL_ESCOLAS_PNAE', \n",
    "                   titulo='ESFERA DO GOVERNO',\n",
    "                   ordem_cresc=False )\n"
   ]
  },
  {
   "cell_type": "markdown",
   "metadata": {},
   "source": [
    "Analisando variável: ESTADO"
   ]
  },
  {
   "cell_type": "code",
   "execution_count": 17,
   "metadata": {},
   "outputs": [
    {
     "data": {
      "image/png": "[encoded data removed]",
      "text/plain": [
       "<Figure size 432x288 with 1 Axes>"
      ]
     },
     "metadata": {
      "needs_background": "light"
     },
     "output_type": "display_data"
    }
   ],
   "source": [
    "Barras_Horizontais(base=base_interim ,\n",
    "                   var_ordem='VALOR_TOTAL_ESCOLAS_PNAE', \n",
    "                   valor_x='ESTADO', valor_y='VALOR_TOTAL_ESCOLAS_PNAE', \n",
    "                   titulo='ESTADO-UF',\n",
    "                   ordem_cresc=False )"
   ]
  },
  {
   "cell_type": "markdown",
   "metadata": {},
   "source": [
    "Pivot table para analisar as relações entre as variáveis"
   ]
  },
  {
   "cell_type": "code",
   "execution_count": 18,
   "metadata": {
    "scrolled": false
   },
   "outputs": [
    {
     "data": {
      "text/html": [
       "<div>\n",
       "<style scoped>\n",
       "    .dataframe tbody tr th:only-of-type {\n",
       "        vertical-align: middle;\n",
       "    }\n",
       "\n",
       "    .dataframe tbody tr th {\n",
       "        vertical-align: top;\n",
       "    }\n",
       "\n",
       "    .dataframe thead tr th {\n",
       "        text-align: left;\n",
       "    }\n",
       "\n",
       "    .dataframe thead tr:last-of-type th {\n",
       "        text-align: right;\n",
       "    }\n",
       "</style>\n",
       "<table border=\"1\" class=\"dataframe\">\n",
       "  <thead>\n",
       "    <tr>\n",
       "      <th></th>\n",
       "      <th colspan=\"3\" halign=\"left\">sum</th>\n",
       "      <th colspan=\"3\" halign=\"left\">mean</th>\n",
       "      <th colspan=\"3\" halign=\"left\">len</th>\n",
       "    </tr>\n",
       "    <tr>\n",
       "      <th></th>\n",
       "      <th colspan=\"3\" halign=\"left\">#ANO</th>\n",
       "      <th colspan=\"3\" halign=\"left\">#ANO</th>\n",
       "      <th colspan=\"3\" halign=\"left\">#ANO</th>\n",
       "    </tr>\n",
       "    <tr>\n",
       "      <th>ESFERA_GOVERNO</th>\n",
       "      <th>ESTADUAL</th>\n",
       "      <th>MUNICIPAL</th>\n",
       "      <th>Total</th>\n",
       "      <th>ESTADUAL</th>\n",
       "      <th>MUNICIPAL</th>\n",
       "      <th>Total</th>\n",
       "      <th>ESTADUAL</th>\n",
       "      <th>MUNICIPAL</th>\n",
       "      <th>Total</th>\n",
       "    </tr>\n",
       "    <tr>\n",
       "      <th>MODALIDADE_ENSINO</th>\n",
       "      <th></th>\n",
       "      <th></th>\n",
       "      <th></th>\n",
       "      <th></th>\n",
       "      <th></th>\n",
       "      <th></th>\n",
       "      <th></th>\n",
       "      <th></th>\n",
       "      <th></th>\n",
       "    </tr>\n",
       "  </thead>\n",
       "  <tbody>\n",
       "    <tr>\n",
       "      <th>ATENDIMENTO EDUCACIONAL ESPECIALIZADO (AEE)</th>\n",
       "      <td>54486.0</td>\n",
       "      <td>7365700.0</td>\n",
       "      <td>7420186.0</td>\n",
       "      <td>2018.0</td>\n",
       "      <td>2018.0</td>\n",
       "      <td>2018.0</td>\n",
       "      <td>27.0</td>\n",
       "      <td>3650.0</td>\n",
       "      <td>3677.0</td>\n",
       "    </tr>\n",
       "    <tr>\n",
       "      <th>CRECHE</th>\n",
       "      <td>28252.0</td>\n",
       "      <td>10519834.0</td>\n",
       "      <td>10548086.0</td>\n",
       "      <td>2018.0</td>\n",
       "      <td>2018.0</td>\n",
       "      <td>2018.0</td>\n",
       "      <td>14.0</td>\n",
       "      <td>5213.0</td>\n",
       "      <td>5227.0</td>\n",
       "    </tr>\n",
       "    <tr>\n",
       "      <th>EJA</th>\n",
       "      <td>54486.0</td>\n",
       "      <td>8019532.0</td>\n",
       "      <td>8074018.0</td>\n",
       "      <td>2018.0</td>\n",
       "      <td>2018.0</td>\n",
       "      <td>2018.0</td>\n",
       "      <td>27.0</td>\n",
       "      <td>3974.0</td>\n",
       "      <td>4001.0</td>\n",
       "    </tr>\n",
       "    <tr>\n",
       "      <th>ENSINO FUNDAMENTAL</th>\n",
       "      <td>54486.0</td>\n",
       "      <td>11092946.0</td>\n",
       "      <td>11147432.0</td>\n",
       "      <td>2018.0</td>\n",
       "      <td>2018.0</td>\n",
       "      <td>2018.0</td>\n",
       "      <td>27.0</td>\n",
       "      <td>5497.0</td>\n",
       "      <td>5524.0</td>\n",
       "    </tr>\n",
       "    <tr>\n",
       "      <th>ENSINO Mï¿½DIO</th>\n",
       "      <td>54486.0</td>\n",
       "      <td>1981676.0</td>\n",
       "      <td>2036162.0</td>\n",
       "      <td>2018.0</td>\n",
       "      <td>2018.0</td>\n",
       "      <td>2018.0</td>\n",
       "      <td>27.0</td>\n",
       "      <td>982.0</td>\n",
       "      <td>1009.0</td>\n",
       "    </tr>\n",
       "    <tr>\n",
       "      <th>ENSINO Mï¿½DIO INTEGRAL</th>\n",
       "      <td>54486.0</td>\n",
       "      <td>50450.0</td>\n",
       "      <td>104936.0</td>\n",
       "      <td>2018.0</td>\n",
       "      <td>2018.0</td>\n",
       "      <td>2018.0</td>\n",
       "      <td>27.0</td>\n",
       "      <td>25.0</td>\n",
       "      <td>52.0</td>\n",
       "    </tr>\n",
       "    <tr>\n",
       "      <th>INDï¿½GENA</th>\n",
       "      <td>46414.0</td>\n",
       "      <td>435888.0</td>\n",
       "      <td>482302.0</td>\n",
       "      <td>2018.0</td>\n",
       "      <td>2018.0</td>\n",
       "      <td>2018.0</td>\n",
       "      <td>23.0</td>\n",
       "      <td>216.0</td>\n",
       "      <td>239.0</td>\n",
       "    </tr>\n",
       "    <tr>\n",
       "      <th>MAIS EDUCAï¿½ï¿½O (PARC. COMPLEM.) - FUNDAMENTAL</th>\n",
       "      <td>42378.0</td>\n",
       "      <td>2782822.0</td>\n",
       "      <td>2825200.0</td>\n",
       "      <td>2018.0</td>\n",
       "      <td>2018.0</td>\n",
       "      <td>2018.0</td>\n",
       "      <td>21.0</td>\n",
       "      <td>1379.0</td>\n",
       "      <td>1400.0</td>\n",
       "    </tr>\n",
       "    <tr>\n",
       "      <th>MAIS EDUCAï¿½ï¿½O (PARC. COMPLEM.) - INDï¿½GENA</th>\n",
       "      <td>12108.0</td>\n",
       "      <td>20180.0</td>\n",
       "      <td>32288.0</td>\n",
       "      <td>2018.0</td>\n",
       "      <td>2018.0</td>\n",
       "      <td>2018.0</td>\n",
       "      <td>6.0</td>\n",
       "      <td>10.0</td>\n",
       "      <td>16.0</td>\n",
       "    </tr>\n",
       "    <tr>\n",
       "      <th>MAIS EDUCAï¿½ï¿½O (PARC. COMPLEM.) - QUILOMBOLA</th>\n",
       "      <td>4036.0</td>\n",
       "      <td>199782.0</td>\n",
       "      <td>203818.0</td>\n",
       "      <td>2018.0</td>\n",
       "      <td>2018.0</td>\n",
       "      <td>2018.0</td>\n",
       "      <td>2.0</td>\n",
       "      <td>99.0</td>\n",
       "      <td>101.0</td>\n",
       "    </tr>\n",
       "    <tr>\n",
       "      <th>PRï¿½-ESCOLA</th>\n",
       "      <td>34306.0</td>\n",
       "      <td>11105054.0</td>\n",
       "      <td>11139360.0</td>\n",
       "      <td>2018.0</td>\n",
       "      <td>2018.0</td>\n",
       "      <td>2018.0</td>\n",
       "      <td>17.0</td>\n",
       "      <td>5503.0</td>\n",
       "      <td>5520.0</td>\n",
       "    </tr>\n",
       "    <tr>\n",
       "      <th>QUILOMBOLA</th>\n",
       "      <td>36324.0</td>\n",
       "      <td>1228962.0</td>\n",
       "      <td>1265286.0</td>\n",
       "      <td>2018.0</td>\n",
       "      <td>2018.0</td>\n",
       "      <td>2018.0</td>\n",
       "      <td>18.0</td>\n",
       "      <td>609.0</td>\n",
       "      <td>627.0</td>\n",
       "    </tr>\n",
       "    <tr>\n",
       "      <th>Total</th>\n",
       "      <td>476248.0</td>\n",
       "      <td>54802826.0</td>\n",
       "      <td>55279074.0</td>\n",
       "      <td>2018.0</td>\n",
       "      <td>2018.0</td>\n",
       "      <td>2018.0</td>\n",
       "      <td>236.0</td>\n",
       "      <td>27157.0</td>\n",
       "      <td>27393.0</td>\n",
       "    </tr>\n",
       "  </tbody>\n",
       "</table>\n",
       "</div>"
      ],
      "text/plain": [
       "                                                       sum              \\\n",
       "                                                      #ANO               \n",
       "ESFERA_GOVERNO                                    ESTADUAL   MUNICIPAL   \n",
       "MODALIDADE_ENSINO                                                        \n",
       "ATENDIMENTO EDUCACIONAL ESPECIALIZADO (AEE)        54486.0   7365700.0   \n",
       "CRECHE                                             28252.0  10519834.0   \n",
       "EJA                                                54486.0   8019532.0   \n",
       "ENSINO FUNDAMENTAL                                 54486.0  11092946.0   \n",
       "ENSINO Mï¿½DIO                                     54486.0   1981676.0   \n",
       "ENSINO Mï¿½DIO INTEGRAL                            54486.0     50450.0   \n",
       "INDï¿½GENA                                         46414.0    435888.0   \n",
       "MAIS EDUCAï¿½ï¿½O (PARC. COMPLEM.) - FUNDAMENTAL   42378.0   2782822.0   \n",
       "MAIS EDUCAï¿½ï¿½O (PARC. COMPLEM.) - INDï¿½GENA    12108.0     20180.0   \n",
       "MAIS EDUCAï¿½ï¿½O (PARC. COMPLEM.) - QUILOMBOLA     4036.0    199782.0   \n",
       "PRï¿½-ESCOLA                                       34306.0  11105054.0   \n",
       "QUILOMBOLA                                         36324.0   1228962.0   \n",
       "Total                                             476248.0  54802826.0   \n",
       "\n",
       "                                                                 mean  \\\n",
       "                                                                 #ANO   \n",
       "ESFERA_GOVERNO                                         Total ESTADUAL   \n",
       "MODALIDADE_ENSINO                                                       \n",
       "ATENDIMENTO EDUCACIONAL ESPECIALIZADO (AEE)        7420186.0   2018.0   \n",
       "CRECHE                                            10548086.0   2018.0   \n",
       "EJA                                                8074018.0   2018.0   \n",
       "ENSINO FUNDAMENTAL                                11147432.0   2018.0   \n",
       "ENSINO Mï¿½DIO                                     2036162.0   2018.0   \n",
       "ENSINO Mï¿½DIO INTEGRAL                             104936.0   2018.0   \n",
       "INDï¿½GENA                                          482302.0   2018.0   \n",
       "MAIS EDUCAï¿½ï¿½O (PARC. COMPLEM.) - FUNDAMENTAL   2825200.0   2018.0   \n",
       "MAIS EDUCAï¿½ï¿½O (PARC. COMPLEM.) - INDï¿½GENA      32288.0   2018.0   \n",
       "MAIS EDUCAï¿½ï¿½O (PARC. COMPLEM.) - QUILOMBOLA     203818.0   2018.0   \n",
       "PRï¿½-ESCOLA                                      11139360.0   2018.0   \n",
       "QUILOMBOLA                                         1265286.0   2018.0   \n",
       "Total                                             55279074.0   2018.0   \n",
       "\n",
       "                                                                        len  \\\n",
       "                                                                       #ANO   \n",
       "ESFERA_GOVERNO                                   MUNICIPAL   Total ESTADUAL   \n",
       "MODALIDADE_ENSINO                                                             \n",
       "ATENDIMENTO EDUCACIONAL ESPECIALIZADO (AEE)         2018.0  2018.0     27.0   \n",
       "CRECHE                                              2018.0  2018.0     14.0   \n",
       "EJA                                                 2018.0  2018.0     27.0   \n",
       "ENSINO FUNDAMENTAL                                  2018.0  2018.0     27.0   \n",
       "ENSINO Mï¿½DIO                                      2018.0  2018.0     27.0   \n",
       "ENSINO Mï¿½DIO INTEGRAL                             2018.0  2018.0     27.0   \n",
       "INDï¿½GENA                                          2018.0  2018.0     23.0   \n",
       "MAIS EDUCAï¿½ï¿½O (PARC. COMPLEM.) - FUNDAMENTAL    2018.0  2018.0     21.0   \n",
       "MAIS EDUCAï¿½ï¿½O (PARC. COMPLEM.) - INDï¿½GENA     2018.0  2018.0      6.0   \n",
       "MAIS EDUCAï¿½ï¿½O (PARC. COMPLEM.) - QUILOMBOLA     2018.0  2018.0      2.0   \n",
       "PRï¿½-ESCOLA                                        2018.0  2018.0     17.0   \n",
       "QUILOMBOLA                                          2018.0  2018.0     18.0   \n",
       "Total                                               2018.0  2018.0    236.0   \n",
       "\n",
       "                                                                     \n",
       "                                                                     \n",
       "ESFERA_GOVERNO                                   MUNICIPAL    Total  \n",
       "MODALIDADE_ENSINO                                                    \n",
       "ATENDIMENTO EDUCACIONAL ESPECIALIZADO (AEE)         3650.0   3677.0  \n",
       "CRECHE                                              5213.0   5227.0  \n",
       "EJA                                                 3974.0   4001.0  \n",
       "ENSINO FUNDAMENTAL                                  5497.0   5524.0  \n",
       "ENSINO Mï¿½DIO                                       982.0   1009.0  \n",
       "ENSINO Mï¿½DIO INTEGRAL                               25.0     52.0  \n",
       "INDï¿½GENA                                           216.0    239.0  \n",
       "MAIS EDUCAï¿½ï¿½O (PARC. COMPLEM.) - FUNDAMENTAL    1379.0   1400.0  \n",
       "MAIS EDUCAï¿½ï¿½O (PARC. COMPLEM.) - INDï¿½GENA       10.0     16.0  \n",
       "MAIS EDUCAï¿½ï¿½O (PARC. COMPLEM.) - QUILOMBOLA       99.0    101.0  \n",
       "PRï¿½-ESCOLA                                        5503.0   5520.0  \n",
       "QUILOMBOLA                                           609.0    627.0  \n",
       "Total                                              27157.0  27393.0  "
      ]
     },
     "execution_count": 18,
     "metadata": {},
     "output_type": "execute_result"
    }
   ],
   "source": [
    "import numpy as np\n",
    "pd.pivot_table(base_interim, \n",
    "               index=['MODALIDADE_ENSINO'],  columns=['ESFERA_GOVERNO'],\n",
    "               values=['#ANO'], \n",
    "               aggfunc=[np.sum,np.mean,len], \n",
    "               margins=True, margins_name='Total')"
   ]
  },
  {
   "cell_type": "markdown",
   "metadata": {},
   "source": [
    "Para as variáveis **quantitativas** analise as distribuições usando histogramas e boxplots. Verifique a possibilidade de existir outliers."
   ]
  },
  {
   "cell_type": "code",
   "execution_count": 19,
   "metadata": {},
   "outputs": [
    {
     "data": {
      "image/png": "[encoded data removed]",
      "text/plain": [
       "<Figure size 432x288 with 1 Axes>"
      ]
     },
     "metadata": {
      "needs_background": "light"
     },
     "output_type": "display_data"
    }
   ],
   "source": [
    "plt.plot(base_interim['VALOR_TOTAL_ESCOLAS_PNAE'], 'bs')\n",
    "plt.title('VALOR TOTAL ESCOLAS PNAE')\n",
    "plt.ylabel('R$')\n",
    "plt.xlabel('Registros')\n",
    "\n",
    "plt.show()"
   ]
  },
  {
   "cell_type": "code",
   "execution_count": 20,
   "metadata": {},
   "outputs": [
    {
     "data": {
      "image/png": "[encoded data removed]",
      "text/plain": [
       "<Figure size 432x288 with 1 Axes>"
      ]
     },
     "metadata": {
      "needs_background": "light"
     },
     "output_type": "display_data"
    }
   ],
   "source": [
    "plt.hist(base_interim['VALOR_TOTAL_ESCOLAS_PNAE'],bins=[0,200000,400000,600000,800000,1000000,1200000,1400000,1600000,1800000,2000000])\n",
    "plt.title('VALOR TOTAL ESCOLAS PNAE - histograma')\n",
    "plt.xlabel('R$')\n",
    "plt.ylabel('Registros')\n",
    "plt.show()"
   ]
  },
  {
   "cell_type": "code",
   "execution_count": 21,
   "metadata": {},
   "outputs": [
    {
     "data": {
      "image/png": "[encoded data removed]",
      "text/plain": [
       "<Figure size 432x288 with 1 Axes>"
      ]
     },
     "metadata": {
      "needs_background": "light"
     },
     "output_type": "display_data"
    }
   ],
   "source": [
    "plt.boxplot(base_interim['VALOR_TOTAL_ESCOLAS_PNAE'])\n",
    "plt.title('VALOR TOTAL ESCOLAS PNAE - boxplot')\n",
    "plt.ylabel('R$')\n",
    "plt.show()"
   ]
  },
  {
   "cell_type": "markdown",
   "metadata": {},
   "source": [
    "Os campos quantitativos podem ter valores atípicos que são dificeis de identicar ou necessitam de um critério isento e objetivo. <br>\n",
    "Um criério que pode ser aplicado é analisar os valores a partir de seus limites inferiores e superiores identificando os casos que estão fora dos limites conforme regra abaixo.\n",
    "\n",
    "\\begin{align}\n",
    "L_{sup} = \\bar{x} + 1.5 * (Q3-Q1) \n",
    "\\end{align}\\begin{align}\n",
    "L_{inf} = \\bar{x} - 1.5 * (Q3-Q1) \n",
    "\\end{align}\n",
    "\n",
    "Para analisar desta forma precisamos primeiro identificar os limites:"
   ]
  },
  {
   "cell_type": "code",
   "execution_count": 22,
   "metadata": {
    "scrolled": true
   },
   "outputs": [
    {
     "name": "stdout",
     "output_type": "stream",
     "text": [
      "Intervalo interquartil: 65934.0\n",
      "Média 146708.02733435543\n",
      "Limite Superior: 245609.02733435543\n",
      "Limite inferior: 47807.02733435543\n"
     ]
    }
   ],
   "source": [
    "# Intervalo interquartil e limites\n",
    "from scipy.stats import iqr\n",
    "valor_iqr=iqr(base_interim['VALOR_TOTAL_ESCOLAS_PNAE'],  keepdims=True)[0]\n",
    "\n",
    "l_sup = base_interim['VALOR_TOTAL_ESCOLAS_PNAE'].mean()  + 1.5*valor_iqr\n",
    "l_inf = base_interim['VALOR_TOTAL_ESCOLAS_PNAE'].mean()  - 1.5*valor_iqr\n",
    "\n",
    "print('Intervalo interquartil:', valor_iqr)\n",
    "print('Média', base_interim['VALOR_TOTAL_ESCOLAS_PNAE'].mean())\n",
    "print('Limite Superior:', l_sup)\n",
    "print('Limite inferior:', l_inf)\n"
   ]
  },
  {
   "cell_type": "markdown",
   "metadata": {},
   "source": [
    "Na sequência verificar quais registros podem ser considerados atípicos (`CASO_ATIPICO=1`), ou seja, todo aquele que estiver fora do intervalo."
   ]
  },
  {
   "cell_type": "code",
   "execution_count": 23,
   "metadata": {},
   "outputs": [],
   "source": [
    "base_interim['CASO_ATIPICO']=base_interim['VALOR_TOTAL_ESCOLAS_PNAE'].apply(lambda x: 1 if (x<l_inf or x>l_sup) else 0)"
   ]
  },
  {
   "cell_type": "markdown",
   "metadata": {},
   "source": [
    "Valide se os casos foram classificados corretamente antes de seguir."
   ]
  },
  {
   "cell_type": "code",
   "execution_count": 24,
   "metadata": {},
   "outputs": [
    {
     "data": {
      "text/html": [
       "<div>\n",
       "<style scoped>\n",
       "    .dataframe tbody tr th:only-of-type {\n",
       "        vertical-align: middle;\n",
       "    }\n",
       "\n",
       "    .dataframe tbody tr th {\n",
       "        vertical-align: top;\n",
       "    }\n",
       "\n",
       "    .dataframe thead th {\n",
       "        text-align: right;\n",
       "    }\n",
       "</style>\n",
       "<table border=\"1\" class=\"dataframe\">\n",
       "  <thead>\n",
       "    <tr style=\"text-align: right;\">\n",
       "      <th></th>\n",
       "      <th>VALOR_TOTAL_ESCOLAS_PNAE</th>\n",
       "      <th>CASO_ATIPICO</th>\n",
       "    </tr>\n",
       "  </thead>\n",
       "  <tbody>\n",
       "    <tr>\n",
       "      <th>0</th>\n",
       "      <td>4346.0</td>\n",
       "      <td>1</td>\n",
       "    </tr>\n",
       "    <tr>\n",
       "      <th>1</th>\n",
       "      <td>63986.0</td>\n",
       "      <td>0</td>\n",
       "    </tr>\n",
       "    <tr>\n",
       "      <th>2</th>\n",
       "      <td>9024.0</td>\n",
       "      <td>1</td>\n",
       "    </tr>\n",
       "    <tr>\n",
       "      <th>3</th>\n",
       "      <td>119752.0</td>\n",
       "      <td>0</td>\n",
       "    </tr>\n",
       "    <tr>\n",
       "      <th>4</th>\n",
       "      <td>47110.0</td>\n",
       "      <td>1</td>\n",
       "    </tr>\n",
       "  </tbody>\n",
       "</table>\n",
       "</div>"
      ],
      "text/plain": [
       "   VALOR_TOTAL_ESCOLAS_PNAE  CASO_ATIPICO\n",
       "0                    4346.0             1\n",
       "1                   63986.0             0\n",
       "2                    9024.0             1\n",
       "3                  119752.0             0\n",
       "4                   47110.0             1"
      ]
     },
     "execution_count": 24,
     "metadata": {},
     "output_type": "execute_result"
    }
   ],
   "source": [
    "base_interim[['VALOR_TOTAL_ESCOLAS_PNAE','CASO_ATIPICO']].head() # use mais registros"
   ]
  },
  {
   "cell_type": "code",
   "execution_count": 25,
   "metadata": {
    "scrolled": true
   },
   "outputs": [
    {
     "data": {
      "text/html": [
       "<div>\n",
       "<style scoped>\n",
       "    .dataframe tbody tr th:only-of-type {\n",
       "        vertical-align: middle;\n",
       "    }\n",
       "\n",
       "    .dataframe tbody tr th {\n",
       "        vertical-align: top;\n",
       "    }\n",
       "\n",
       "    .dataframe thead tr th {\n",
       "        text-align: left;\n",
       "    }\n",
       "\n",
       "    .dataframe thead tr:last-of-type th {\n",
       "        text-align: right;\n",
       "    }\n",
       "</style>\n",
       "<table border=\"1\" class=\"dataframe\">\n",
       "  <thead>\n",
       "    <tr>\n",
       "      <th></th>\n",
       "      <th>amin</th>\n",
       "      <th>amax</th>\n",
       "      <th>len</th>\n",
       "    </tr>\n",
       "    <tr>\n",
       "      <th></th>\n",
       "      <th>VALOR_TOTAL_ESCOLAS_PNAE</th>\n",
       "      <th>VALOR_TOTAL_ESCOLAS_PNAE</th>\n",
       "      <th>VALOR_TOTAL_ESCOLAS_PNAE</th>\n",
       "    </tr>\n",
       "    <tr>\n",
       "      <th>CASO_ATIPICO</th>\n",
       "      <th></th>\n",
       "      <th></th>\n",
       "      <th></th>\n",
       "    </tr>\n",
       "  </thead>\n",
       "  <tbody>\n",
       "    <tr>\n",
       "      <th>0</th>\n",
       "      <td>47808.0</td>\n",
       "      <td>245410.0</td>\n",
       "      <td>6994.0</td>\n",
       "    </tr>\n",
       "    <tr>\n",
       "      <th>1</th>\n",
       "      <td>10.6</td>\n",
       "      <td>110408168.0</td>\n",
       "      <td>20399.0</td>\n",
       "    </tr>\n",
       "    <tr>\n",
       "      <th>Total</th>\n",
       "      <td>10.6</td>\n",
       "      <td>110408168.0</td>\n",
       "      <td>27393.0</td>\n",
       "    </tr>\n",
       "  </tbody>\n",
       "</table>\n",
       "</div>"
      ],
      "text/plain": [
       "                                 amin                     amax  \\\n",
       "             VALOR_TOTAL_ESCOLAS_PNAE VALOR_TOTAL_ESCOLAS_PNAE   \n",
       "CASO_ATIPICO                                                     \n",
       "0                             47808.0                 245410.0   \n",
       "1                                10.6              110408168.0   \n",
       "Total                            10.6              110408168.0   \n",
       "\n",
       "                                  len  \n",
       "             VALOR_TOTAL_ESCOLAS_PNAE  \n",
       "CASO_ATIPICO                           \n",
       "0                              6994.0  \n",
       "1                             20399.0  \n",
       "Total                         27393.0  "
      ]
     },
     "execution_count": 25,
     "metadata": {},
     "output_type": "execute_result"
    }
   ],
   "source": [
    "pd.pivot_table(base_interim, \n",
    "               index=['CASO_ATIPICO'],  \n",
    "               values=['VALOR_TOTAL_ESCOLAS_PNAE'], \n",
    "               aggfunc=[np.min,np.max,len], \n",
    "               margins=True, margins_name='Total')"
   ]
  },
  {
   "cell_type": "markdown",
   "metadata": {},
   "source": [
    "Vejam que quase **74%** desta base tem casos atípicos."
   ]
  },
  {
   "cell_type": "markdown",
   "metadata": {},
   "source": [
    "Após o termino de sua análise exploratória dos dados compile todas as suas observações.<BR>\n",
    "Discuta e avalie suas conclusões antes de seguir para a última etapa.  "
   ]
  },
  {
   "cell_type": "markdown",
   "metadata": {},
   "source": [
    "## Passo 4 - Feature Engineering"
   ]
  },
  {
   "cell_type": "markdown",
   "metadata": {},
   "source": [
    "Esta parte é a mais complexa e decisiva, pois impacta a criação do modelo que sera usado no experimento.\n",
    "Aqui é mais arte que ciência, ou seja, depende muito da experiência, do tipo de dados e da pergunta de negócio que se quer responder."
   ]
  },
  {
   "cell_type": "markdown",
   "metadata": {},
   "source": [
    "Para nosso experimento vamos desprezar (remover) as seguintes colunas: **#ANO**, **ESFERA_GOVERNO** e **CASO_ATIPICO**, pois não são relevantes para nosso trabalho. \n",
    "\n",
    "Além disso, vamos transformar a variável **MODALIDADE_ENSINO** de forma que cada opcão seja uma nova coluna no arquivo de dados. \n",
    "\n",
    "Vamos criar um campo chamado **CIDADE** que combine Estado e Município, pois pode have dois ou mais nomes iguais em estados diferentes\n",
    "\n",
    "Apenas estas três modicações serão consideradas. "
   ]
  },
  {
   "cell_type": "markdown",
   "metadata": {},
   "source": [
    "Criando a variável CIDADE e removendo as colunas #ANO e ESFERA_GOVERNO."
   ]
  },
  {
   "cell_type": "code",
   "execution_count": 402,
   "metadata": {},
   "outputs": [],
   "source": [
    "base_interim['CIDADE'] = base_interim['ESTADO'] + '-' + base_interim['MUNICIPIO']\n",
    "#base_resumida = base_interim.drop(['#ANO', 'ESFERA_GOVERNO', 'MUNICIPIO', 'CASO_ATIPICO', 'ESTADO'], axis=1)"
   ]
  },
  {
   "cell_type": "markdown",
   "metadata": {},
   "source": [
    "Inspecionando os dados"
   ]
  },
  {
   "cell_type": "code",
   "execution_count": 403,
   "metadata": {},
   "outputs": [
    {
     "data": {
      "text/html": [
       "<div>\n",
       "<style scoped>\n",
       "    .dataframe tbody tr th:only-of-type {\n",
       "        vertical-align: middle;\n",
       "    }\n",
       "\n",
       "    .dataframe tbody tr th {\n",
       "        vertical-align: top;\n",
       "    }\n",
       "\n",
       "    .dataframe thead th {\n",
       "        text-align: right;\n",
       "    }\n",
       "</style>\n",
       "<table border=\"1\" class=\"dataframe\">\n",
       "  <thead>\n",
       "    <tr style=\"text-align: right;\">\n",
       "      <th></th>\n",
       "      <th>CIDADE</th>\n",
       "      <th>MODALIDADE_ENSINO</th>\n",
       "      <th>VALOR_TOTAL_ESCOLAS_PNAE</th>\n",
       "    </tr>\n",
       "  </thead>\n",
       "  <tbody>\n",
       "    <tr>\n",
       "      <th>0</th>\n",
       "      <td>AC-ACRELANDIA</td>\n",
       "      <td>ATENDIMENTO EDUCACIONAL ESPECIALIZADO (AEE)</td>\n",
       "      <td>4346.0</td>\n",
       "    </tr>\n",
       "    <tr>\n",
       "      <th>1</th>\n",
       "      <td>AC-ACRELANDIA</td>\n",
       "      <td>CRECHE</td>\n",
       "      <td>63986.0</td>\n",
       "    </tr>\n",
       "    <tr>\n",
       "      <th>2</th>\n",
       "      <td>AC-ACRELANDIA</td>\n",
       "      <td>EJA</td>\n",
       "      <td>9024.0</td>\n",
       "    </tr>\n",
       "    <tr>\n",
       "      <th>3</th>\n",
       "      <td>AC-ACRELANDIA</td>\n",
       "      <td>ENSINO FUNDAMENTAL</td>\n",
       "      <td>119752.0</td>\n",
       "    </tr>\n",
       "    <tr>\n",
       "      <th>4</th>\n",
       "      <td>AC-ACRELANDIA</td>\n",
       "      <td>PRï¿½-ESCOLA</td>\n",
       "      <td>47110.0</td>\n",
       "    </tr>\n",
       "  </tbody>\n",
       "</table>\n",
       "</div>"
      ],
      "text/plain": [
       "          CIDADE                            MODALIDADE_ENSINO  \\\n",
       "0  AC-ACRELANDIA  ATENDIMENTO EDUCACIONAL ESPECIALIZADO (AEE)   \n",
       "1  AC-ACRELANDIA                                       CRECHE   \n",
       "2  AC-ACRELANDIA                                          EJA   \n",
       "3  AC-ACRELANDIA                           ENSINO FUNDAMENTAL   \n",
       "4  AC-ACRELANDIA                                 PRï¿½-ESCOLA   \n",
       "\n",
       "   VALOR_TOTAL_ESCOLAS_PNAE  \n",
       "0                    4346.0  \n",
       "1                   63986.0  \n",
       "2                    9024.0  \n",
       "3                  119752.0  \n",
       "4                   47110.0  "
      ]
     },
     "execution_count": 403,
     "metadata": {},
     "output_type": "execute_result"
    }
   ],
   "source": [
    "base_interim[['CIDADE','MODALIDADE_ENSINO', 'VALOR_TOTAL_ESCOLAS_PNAE']].head()"
   ]
  },
  {
   "cell_type": "markdown",
   "metadata": {},
   "source": [
    "Agora vamos transformar a variável **MODALIDADE_ENSINO** de forma que cada opcão seja uma nova coluna no arquivo de dados."
   ]
  },
  {
   "cell_type": "code",
   "execution_count": 405,
   "metadata": {},
   "outputs": [],
   "source": [
    "base_final = pd.pivot_table(base_interim[['CIDADE','MODALIDADE_ENSINO', 'VALOR_TOTAL_ESCOLAS_PNAE']], \n",
    "                            index=['CIDADE'], \n",
    "                            columns=['MODALIDADE_ENSINO'], \n",
    "                            values=['VALOR_TOTAL_ESCOLAS_PNAE'])"
   ]
  },
  {
   "cell_type": "code",
   "execution_count": 406,
   "metadata": {},
   "outputs": [],
   "source": [
    "base_final.reset_index(inplace=True)\n",
    "base_final = base_final.droplevel(0, axis=1)"
   ]
  },
  {
   "cell_type": "code",
   "execution_count": 407,
   "metadata": {},
   "outputs": [],
   "source": [
    "base_final = base_final.rename(columns={base_final.columns[0]:'CIDADE'})"
   ]
  },
  {
   "cell_type": "markdown",
   "metadata": {},
   "source": [
    "Substituindo os valores NaN pelo valor 0."
   ]
  },
  {
   "cell_type": "code",
   "execution_count": 408,
   "metadata": {},
   "outputs": [],
   "source": [
    "base_final.fillna(0, inplace=True)"
   ]
  },
  {
   "cell_type": "markdown",
   "metadata": {},
   "source": [
    "Inspecionando os dados final e salvando um novo arquivo CSV."
   ]
  },
  {
   "cell_type": "code",
   "execution_count": 409,
   "metadata": {},
   "outputs": [
    {
     "data": {
      "text/plain": [
       "(5513, 13)"
      ]
     },
     "execution_count": 409,
     "metadata": {},
     "output_type": "execute_result"
    }
   ],
   "source": [
    "base_final.shape"
   ]
  },
  {
   "cell_type": "code",
   "execution_count": 410,
   "metadata": {},
   "outputs": [
    {
     "data": {
      "text/html": [
       "<div>\n",
       "<style scoped>\n",
       "    .dataframe tbody tr th:only-of-type {\n",
       "        vertical-align: middle;\n",
       "    }\n",
       "\n",
       "    .dataframe tbody tr th {\n",
       "        vertical-align: top;\n",
       "    }\n",
       "\n",
       "    .dataframe thead th {\n",
       "        text-align: right;\n",
       "    }\n",
       "</style>\n",
       "<table border=\"1\" class=\"dataframe\">\n",
       "  <thead>\n",
       "    <tr style=\"text-align: right;\">\n",
       "      <th>MODALIDADE_ENSINO</th>\n",
       "      <th>CIDADE</th>\n",
       "      <th>ATENDIMENTO EDUCACIONAL ESPECIALIZADO (AEE)</th>\n",
       "      <th>CRECHE</th>\n",
       "      <th>EJA</th>\n",
       "      <th>ENSINO FUNDAMENTAL</th>\n",
       "      <th>ENSINO Mï¿½DIO</th>\n",
       "      <th>ENSINO Mï¿½DIO INTEGRAL</th>\n",
       "      <th>INDï¿½GENA</th>\n",
       "      <th>MAIS EDUCAï¿½ï¿½O (PARC. COMPLEM.) - FUNDAMENTAL</th>\n",
       "      <th>MAIS EDUCAï¿½ï¿½O (PARC. COMPLEM.) - INDï¿½GENA</th>\n",
       "      <th>MAIS EDUCAï¿½ï¿½O (PARC. COMPLEM.) - QUILOMBOLA</th>\n",
       "      <th>PRï¿½-ESCOLA</th>\n",
       "      <th>QUILOMBOLA</th>\n",
       "    </tr>\n",
       "  </thead>\n",
       "  <tbody>\n",
       "    <tr>\n",
       "      <th>0</th>\n",
       "      <td>AC-ACRELANDIA</td>\n",
       "      <td>4346.0</td>\n",
       "      <td>63986.0</td>\n",
       "      <td>9024.0</td>\n",
       "      <td>119752.0</td>\n",
       "      <td>0.0</td>\n",
       "      <td>0.0</td>\n",
       "      <td>0.0</td>\n",
       "      <td>0.0</td>\n",
       "      <td>0.0</td>\n",
       "      <td>0.0</td>\n",
       "      <td>47110.0</td>\n",
       "      <td>0.0</td>\n",
       "    </tr>\n",
       "    <tr>\n",
       "      <th>1</th>\n",
       "      <td>AC-ASSIS BRASIL</td>\n",
       "      <td>2459.2</td>\n",
       "      <td>8046.4</td>\n",
       "      <td>6195.2</td>\n",
       "      <td>62726.4</td>\n",
       "      <td>0.0</td>\n",
       "      <td>0.0</td>\n",
       "      <td>0.0</td>\n",
       "      <td>0.0</td>\n",
       "      <td>0.0</td>\n",
       "      <td>0.0</td>\n",
       "      <td>27984.0</td>\n",
       "      <td>0.0</td>\n",
       "    </tr>\n",
       "    <tr>\n",
       "      <th>2</th>\n",
       "      <td>AC-BRASILEIA</td>\n",
       "      <td>7738.0</td>\n",
       "      <td>75756.0</td>\n",
       "      <td>6720.0</td>\n",
       "      <td>156240.0</td>\n",
       "      <td>0.0</td>\n",
       "      <td>0.0</td>\n",
       "      <td>0.0</td>\n",
       "      <td>0.0</td>\n",
       "      <td>0.0</td>\n",
       "      <td>0.0</td>\n",
       "      <td>91266.0</td>\n",
       "      <td>0.0</td>\n",
       "    </tr>\n",
       "    <tr>\n",
       "      <th>3</th>\n",
       "      <td>AC-BUJARI</td>\n",
       "      <td>1696.0</td>\n",
       "      <td>46010.0</td>\n",
       "      <td>0.0</td>\n",
       "      <td>85968.0</td>\n",
       "      <td>0.0</td>\n",
       "      <td>0.0</td>\n",
       "      <td>0.0</td>\n",
       "      <td>0.0</td>\n",
       "      <td>0.0</td>\n",
       "      <td>0.0</td>\n",
       "      <td>27560.0</td>\n",
       "      <td>0.0</td>\n",
       "    </tr>\n",
       "    <tr>\n",
       "      <th>4</th>\n",
       "      <td>AC-CAPIXABA</td>\n",
       "      <td>3243.6</td>\n",
       "      <td>12519.0</td>\n",
       "      <td>22982.4</td>\n",
       "      <td>111607.2</td>\n",
       "      <td>0.0</td>\n",
       "      <td>0.0</td>\n",
       "      <td>0.0</td>\n",
       "      <td>0.0</td>\n",
       "      <td>0.0</td>\n",
       "      <td>0.0</td>\n",
       "      <td>35584.2</td>\n",
       "      <td>0.0</td>\n",
       "    </tr>\n",
       "    <tr>\n",
       "      <th>...</th>\n",
       "      <td>...</td>\n",
       "      <td>...</td>\n",
       "      <td>...</td>\n",
       "      <td>...</td>\n",
       "      <td>...</td>\n",
       "      <td>...</td>\n",
       "      <td>...</td>\n",
       "      <td>...</td>\n",
       "      <td>...</td>\n",
       "      <td>...</td>\n",
       "      <td>...</td>\n",
       "      <td>...</td>\n",
       "      <td>...</td>\n",
       "    </tr>\n",
       "    <tr>\n",
       "      <th>5508</th>\n",
       "      <td>TO-TOCANTINOPOLIS</td>\n",
       "      <td>4452.0</td>\n",
       "      <td>94588.0</td>\n",
       "      <td>0.0</td>\n",
       "      <td>115882.0</td>\n",
       "      <td>0.0</td>\n",
       "      <td>0.0</td>\n",
       "      <td>0.0</td>\n",
       "      <td>0.0</td>\n",
       "      <td>0.0</td>\n",
       "      <td>0.0</td>\n",
       "      <td>45580.0</td>\n",
       "      <td>0.0</td>\n",
       "    </tr>\n",
       "    <tr>\n",
       "      <th>5509</th>\n",
       "      <td>TO-TUPIRAMA</td>\n",
       "      <td>0.0</td>\n",
       "      <td>6355.8</td>\n",
       "      <td>0.0</td>\n",
       "      <td>35245.8</td>\n",
       "      <td>0.0</td>\n",
       "      <td>0.0</td>\n",
       "      <td>0.0</td>\n",
       "      <td>0.0</td>\n",
       "      <td>0.0</td>\n",
       "      <td>0.0</td>\n",
       "      <td>4770.0</td>\n",
       "      <td>0.0</td>\n",
       "    </tr>\n",
       "    <tr>\n",
       "      <th>5510</th>\n",
       "      <td>TO-TUPIRATINS</td>\n",
       "      <td>318.0</td>\n",
       "      <td>7490.0</td>\n",
       "      <td>0.0</td>\n",
       "      <td>17872.0</td>\n",
       "      <td>0.0</td>\n",
       "      <td>0.0</td>\n",
       "      <td>0.0</td>\n",
       "      <td>0.0</td>\n",
       "      <td>0.0</td>\n",
       "      <td>0.0</td>\n",
       "      <td>6678.0</td>\n",
       "      <td>0.0</td>\n",
       "    </tr>\n",
       "    <tr>\n",
       "      <th>5511</th>\n",
       "      <td>TO-WANDERLANDIA</td>\n",
       "      <td>2968.0</td>\n",
       "      <td>25894.0</td>\n",
       "      <td>3350.0</td>\n",
       "      <td>131382.0</td>\n",
       "      <td>0.0</td>\n",
       "      <td>0.0</td>\n",
       "      <td>0.0</td>\n",
       "      <td>11360.0</td>\n",
       "      <td>0.0</td>\n",
       "      <td>0.0</td>\n",
       "      <td>24592.0</td>\n",
       "      <td>0.0</td>\n",
       "    </tr>\n",
       "    <tr>\n",
       "      <th>5512</th>\n",
       "      <td>TO-XAMBIOA</td>\n",
       "      <td>2650.0</td>\n",
       "      <td>27392.0</td>\n",
       "      <td>4160.0</td>\n",
       "      <td>74664.0</td>\n",
       "      <td>0.0</td>\n",
       "      <td>0.0</td>\n",
       "      <td>0.0</td>\n",
       "      <td>0.0</td>\n",
       "      <td>0.0</td>\n",
       "      <td>0.0</td>\n",
       "      <td>33920.0</td>\n",
       "      <td>0.0</td>\n",
       "    </tr>\n",
       "  </tbody>\n",
       "</table>\n",
       "<p>5513 rows × 13 columns</p>\n",
       "</div>"
      ],
      "text/plain": [
       "MODALIDADE_ENSINO             CIDADE  \\\n",
       "0                      AC-ACRELANDIA   \n",
       "1                    AC-ASSIS BRASIL   \n",
       "2                       AC-BRASILEIA   \n",
       "3                          AC-BUJARI   \n",
       "4                        AC-CAPIXABA   \n",
       "...                              ...   \n",
       "5508               TO-TOCANTINOPOLIS   \n",
       "5509                     TO-TUPIRAMA   \n",
       "5510                   TO-TUPIRATINS   \n",
       "5511                 TO-WANDERLANDIA   \n",
       "5512                      TO-XAMBIOA   \n",
       "\n",
       "MODALIDADE_ENSINO  ATENDIMENTO EDUCACIONAL ESPECIALIZADO (AEE)   CRECHE  \\\n",
       "0                                                       4346.0  63986.0   \n",
       "1                                                       2459.2   8046.4   \n",
       "2                                                       7738.0  75756.0   \n",
       "3                                                       1696.0  46010.0   \n",
       "4                                                       3243.6  12519.0   \n",
       "...                                                        ...      ...   \n",
       "5508                                                    4452.0  94588.0   \n",
       "5509                                                       0.0   6355.8   \n",
       "5510                                                     318.0   7490.0   \n",
       "5511                                                    2968.0  25894.0   \n",
       "5512                                                    2650.0  27392.0   \n",
       "\n",
       "MODALIDADE_ENSINO      EJA  ENSINO FUNDAMENTAL  ENSINO Mï¿½DIO  \\\n",
       "0                   9024.0            119752.0             0.0   \n",
       "1                   6195.2             62726.4             0.0   \n",
       "2                   6720.0            156240.0             0.0   \n",
       "3                      0.0             85968.0             0.0   \n",
       "4                  22982.4            111607.2             0.0   \n",
       "...                    ...                 ...             ...   \n",
       "5508                   0.0            115882.0             0.0   \n",
       "5509                   0.0             35245.8             0.0   \n",
       "5510                   0.0             17872.0             0.0   \n",
       "5511                3350.0            131382.0             0.0   \n",
       "5512                4160.0             74664.0             0.0   \n",
       "\n",
       "MODALIDADE_ENSINO  ENSINO Mï¿½DIO INTEGRAL  INDï¿½GENA  \\\n",
       "0                                      0.0         0.0   \n",
       "1                                      0.0         0.0   \n",
       "2                                      0.0         0.0   \n",
       "3                                      0.0         0.0   \n",
       "4                                      0.0         0.0   \n",
       "...                                    ...         ...   \n",
       "5508                                   0.0         0.0   \n",
       "5509                                   0.0         0.0   \n",
       "5510                                   0.0         0.0   \n",
       "5511                                   0.0         0.0   \n",
       "5512                                   0.0         0.0   \n",
       "\n",
       "MODALIDADE_ENSINO  MAIS EDUCAï¿½ï¿½O (PARC. COMPLEM.) - FUNDAMENTAL  \\\n",
       "0                                                               0.0   \n",
       "1                                                               0.0   \n",
       "2                                                               0.0   \n",
       "3                                                               0.0   \n",
       "4                                                               0.0   \n",
       "...                                                             ...   \n",
       "5508                                                            0.0   \n",
       "5509                                                            0.0   \n",
       "5510                                                            0.0   \n",
       "5511                                                        11360.0   \n",
       "5512                                                            0.0   \n",
       "\n",
       "MODALIDADE_ENSINO  MAIS EDUCAï¿½ï¿½O (PARC. COMPLEM.) - INDï¿½GENA  \\\n",
       "0                                                              0.0   \n",
       "1                                                              0.0   \n",
       "2                                                              0.0   \n",
       "3                                                              0.0   \n",
       "4                                                              0.0   \n",
       "...                                                            ...   \n",
       "5508                                                           0.0   \n",
       "5509                                                           0.0   \n",
       "5510                                                           0.0   \n",
       "5511                                                           0.0   \n",
       "5512                                                           0.0   \n",
       "\n",
       "MODALIDADE_ENSINO  MAIS EDUCAï¿½ï¿½O (PARC. COMPLEM.) - QUILOMBOLA  \\\n",
       "0                                                              0.0   \n",
       "1                                                              0.0   \n",
       "2                                                              0.0   \n",
       "3                                                              0.0   \n",
       "4                                                              0.0   \n",
       "...                                                            ...   \n",
       "5508                                                           0.0   \n",
       "5509                                                           0.0   \n",
       "5510                                                           0.0   \n",
       "5511                                                           0.0   \n",
       "5512                                                           0.0   \n",
       "\n",
       "MODALIDADE_ENSINO  PRï¿½-ESCOLA  QUILOMBOLA  \n",
       "0                       47110.0         0.0  \n",
       "1                       27984.0         0.0  \n",
       "2                       91266.0         0.0  \n",
       "3                       27560.0         0.0  \n",
       "4                       35584.2         0.0  \n",
       "...                         ...         ...  \n",
       "5508                    45580.0         0.0  \n",
       "5509                     4770.0         0.0  \n",
       "5510                     6678.0         0.0  \n",
       "5511                    24592.0         0.0  \n",
       "5512                    33920.0         0.0  \n",
       "\n",
       "[5513 rows x 13 columns]"
      ]
     },
     "execution_count": 410,
     "metadata": {},
     "output_type": "execute_result"
    }
   ],
   "source": [
    "base_final"
   ]
  },
  {
   "cell_type": "code",
   "execution_count": 411,
   "metadata": {},
   "outputs": [],
   "source": [
    "base_final.to_csv('datasets/PNAE_RECURSOS_REPASSADOS_2018_FINAL.csv', index=False)"
   ]
  },
  {
   "cell_type": "markdown",
   "metadata": {},
   "source": [
    "FIM"
   ]
  },
  {
   "cell_type": "markdown",
   "metadata": {},
   "source": [
    "## Referências bibliográficas\n",
    "**Falta ajustar para ABNT**<BR>\n",
    "Disponível em: ftp://ftp2.fnde.gov.br/dadosabertos/PNAE/PNAE_RECURSOS_REPASSADOS_2018.csv <BR>\n",
    "https://pt.wikipedia.org/wiki/Interpola%C3%A7%C3%A3o_polinomial#:~:text=Denomina%2Dse%20interpola%C3%A7%C3%A3o%20polinomial%20o,fun%C3%A7%C3%A3o%20interpoladora%20%C3%A9%20a%20fun%C3%A7%C3%A3o&text=Na%20fase%20de%20escolha%20do,interpola%C3%A7%C3%A3o%2C%20frequentemente%20s%C3%A3o%20escolhidos%20polin%C3%B3mios. <BR>\n",
    "Pandas documentation. **https://pandas.pydata.org**. Disponível em: https://pandas.pydata.org/pandas-docs/stable/index.html. Acesso em 11 de maio de 2020.<BR>\n",
    "McKinney, Wes. **Python for Data Analysis**. Sebastopol: O’Reilly Media, Inc., 2012"
   ]
  }
 ],
 "metadata": {
  "kernelspec": {
   "display_name": "Python 3",
   "language": "python",
   "name": "python3"
  },
  "language_info": {
   "codemirror_mode": {
    "name": "ipython",
    "version": 3
   },
   "file_extension": ".py",
   "mimetype": "text/x-python",
   "name": "python",
   "nbconvert_exporter": "python",
   "pygments_lexer": "ipython3",
   "version": "3.7.6"
  }
 },
 "nbformat": 4,
 "nbformat_minor": 2
}
