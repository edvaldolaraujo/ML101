{
 "cells": [
  {
   "cell_type": "code",
   "execution_count": null,
   "metadata": {
    "ExecuteTime": {
     "end_time": "2021-05-06T00:52:04.821827Z",
     "start_time": "2021-05-06T00:52:04.557584Z"
    }
   },
   "outputs": [],
   "source": [
    "import textdistance\n",
    "import pandas as pd\n",
    "import logging"
   ]
  },
  {
   "cell_type": "code",
   "execution_count": null,
   "metadata": {
    "ExecuteTime": {
     "end_time": "2021-05-06T00:52:05.608646Z",
     "start_time": "2021-05-06T00:52:05.590690Z"
    }
   },
   "outputs": [],
   "source": [
    "logging.basicConfig(filename=\"C:\\\\Sandbox\\\\ml101\\\\log_startup.txt\",level=logging.INFO, filemode='w')"
   ]
  },
  {
   "cell_type": "code",
   "execution_count": null,
   "metadata": {
    "ExecuteTime": {
     "end_time": "2021-05-06T00:52:06.703686Z",
     "start_time": "2021-05-06T00:52:06.685818Z"
    }
   },
   "outputs": [],
   "source": [
    "logging.info(\"Ano|Startup1|Startup2|scores\")"
   ]
  },
  {
   "cell_type": "code",
   "execution_count": null,
   "metadata": {
    "ExecuteTime": {
     "end_time": "2021-05-06T01:10:54.835152Z",
     "start_time": "2021-05-06T01:10:54.816177Z"
    }
   },
   "outputs": [],
   "source": [
    "base = pd.read_excel('C:\\\\Sandbox\\\\ml101\\\\base_startup.xlsx')"
   ]
  },
  {
   "cell_type": "code",
   "execution_count": null,
   "metadata": {
    "ExecuteTime": {
     "end_time": "2021-05-06T01:20:54.010020Z",
     "start_time": "2021-05-06T01:20:53.996679Z"
    }
   },
   "outputs": [],
   "source": [
    "#base.shape[0]\n",
    "for r in range(base.shape[0]):\n",
    "    for c in range(base.shape[0]):\n",
    "        score = textdistance.jaccard(base.iloc[r,0].lower().replace(' ',''), base.iloc[c,0].lower().replace(' ',''))\n",
    "        logging.info(base.iloc[r,0] + '|' + base.iloc[c,0] + '|' + str(score))"
   ]
  },
  {
   "cell_type": "code",
   "execution_count": null,
   "metadata": {},
   "outputs": [],
   "source": []
  }
 ],
 "metadata": {
  "kernelspec": {
   "display_name": "Python 3",
   "language": "python",
   "name": "python3"
  },
  "language_info": {
   "codemirror_mode": {
    "name": "ipython",
    "version": 3
   },
   "file_extension": ".py",
   "mimetype": "text/x-python",
   "name": "python",
   "nbconvert_exporter": "python",
   "pygments_lexer": "ipython3",
   "version": "3.8.5"
  },
  "varInspector": {
   "cols": {
    "lenName": 16,
    "lenType": 16,
    "lenVar": 40
   },
   "kernels_config": {
    "python": {
     "delete_cmd_postfix": "",
     "delete_cmd_prefix": "del ",
     "library": "var_list.py",
     "varRefreshCmd": "print(var_dic_list())"
    },
    "r": {
     "delete_cmd_postfix": ") ",
     "delete_cmd_prefix": "rm(",
     "library": "var_list.r",
     "varRefreshCmd": "cat(var_dic_list()) "
    }
   },
   "types_to_exclude": [
    "module",
    "function",
    "builtin_function_or_method",
    "instance",
    "_Feature"
   ],
   "window_display": false
  }
 },
 "nbformat": 4,
 "nbformat_minor": 4
}
