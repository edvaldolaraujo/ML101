{
 "cells": [
  {
   "cell_type": "markdown",
   "metadata": {},
   "source": [
    "# Análise de Cluster"
   ]
  },
  {
   "cell_type": "markdown",
   "metadata": {},
   "source": [
    "O conjunto de dados usado neste experimento é base da PNAE 2018 restruturada por cidade."
   ]
  },
  {
   "cell_type": "markdown",
   "metadata": {},
   "source": [
    "## Importando pacotes"
   ]
  },
  {
   "cell_type": "code",
   "execution_count": 1,
   "metadata": {
    "ExecuteTime": {
     "end_time": "2021-06-04T14:50:49.431426Z",
     "start_time": "2021-06-04T14:50:48.105992Z"
    }
   },
   "outputs": [],
   "source": [
    "import numpy as np\n",
    "import pandas as pd\n",
    "import seaborn as sns\n",
    "import matplotlib.pyplot as plt\n",
    "from scipy.stats import iqr\n",
    "\n",
    "from sklearn.cluster import KMeans\n",
    "from sklearn.preprocessing import StandardScaler\n",
    "from sklearn.preprocessing import MinMaxScaler"
   ]
  },
  {
   "cell_type": "code",
   "execution_count": 2,
   "metadata": {
    "ExecuteTime": {
     "end_time": "2021-06-04T14:50:50.946050Z",
     "start_time": "2021-06-04T14:50:50.929096Z"
    }
   },
   "outputs": [],
   "source": [
    "pd.options.display.float_format = '{:,.2f}'.format"
   ]
  },
  {
   "cell_type": "markdown",
   "metadata": {},
   "source": [
    "## Carregando dados"
   ]
  },
  {
   "cell_type": "code",
   "execution_count": 3,
   "metadata": {
    "ExecuteTime": {
     "end_time": "2021-06-04T14:50:52.676009Z",
     "start_time": "2021-06-04T14:50:52.648105Z"
    }
   },
   "outputs": [],
   "source": [
    "base = pd.read_csv('PNAE_RECURSOS_REPASSADOS_2018_FINAL.csv')"
   ]
  },
  {
   "cell_type": "code",
   "execution_count": 4,
   "metadata": {
    "ExecuteTime": {
     "end_time": "2021-06-04T14:50:54.074225Z",
     "start_time": "2021-06-04T14:50:54.048246Z"
    }
   },
   "outputs": [
    {
     "name": "stdout",
     "output_type": "stream",
     "text": [
      "<class 'pandas.core.frame.DataFrame'>\n",
      "RangeIndex: 5513 entries, 0 to 5512\n",
      "Data columns (total 13 columns):\n",
      " #   Column                                            Non-Null Count  Dtype  \n",
      "---  ------                                            --------------  -----  \n",
      " 0   CIDADE                                            5513 non-null   object \n",
      " 1   ATENDIMENTO EDUCACIONAL ESPECIALIZADO (AEE)       5513 non-null   float64\n",
      " 2   CRECHE                                            5513 non-null   float64\n",
      " 3   EJA                                               5513 non-null   float64\n",
      " 4   ENSINO FUNDAMENTAL                                5513 non-null   float64\n",
      " 5   ENSINO Mï¿½DIO                                    5513 non-null   float64\n",
      " 6   ENSINO Mï¿½DIO INTEGRAL                           5513 non-null   float64\n",
      " 7   INDï¿½GENA                                        5513 non-null   float64\n",
      " 8   MAIS EDUCAï¿½ï¿½O (PARC. COMPLEM.) - FUNDAMENTAL  5513 non-null   float64\n",
      " 9   MAIS EDUCAï¿½ï¿½O (PARC. COMPLEM.) - INDï¿½GENA   5513 non-null   float64\n",
      " 10  MAIS EDUCAï¿½ï¿½O (PARC. COMPLEM.) - QUILOMBOLA   5513 non-null   float64\n",
      " 11  PRï¿½-ESCOLA                                      5513 non-null   float64\n",
      " 12  QUILOMBOLA                                        5513 non-null   float64\n",
      "dtypes: float64(12), object(1)\n",
      "memory usage: 560.0+ KB\n"
     ]
    }
   ],
   "source": [
    "base.info()"
   ]
  },
  {
   "cell_type": "markdown",
   "metadata": {},
   "source": [
    "## Explorando dados"
   ]
  },
  {
   "cell_type": "code",
   "execution_count": 5,
   "metadata": {
    "ExecuteTime": {
     "end_time": "2021-06-04T14:51:04.870469Z",
     "start_time": "2021-06-04T14:51:04.813054Z"
    }
   },
   "outputs": [
    {
     "data": {
      "text/html": [
       "<div>\n",
       "<style scoped>\n",
       "    .dataframe tbody tr th:only-of-type {\n",
       "        vertical-align: middle;\n",
       "    }\n",
       "\n",
       "    .dataframe tbody tr th {\n",
       "        vertical-align: top;\n",
       "    }\n",
       "\n",
       "    .dataframe thead th {\n",
       "        text-align: right;\n",
       "    }\n",
       "</style>\n",
       "<table border=\"1\" class=\"dataframe\">\n",
       "  <thead>\n",
       "    <tr style=\"text-align: right;\">\n",
       "      <th></th>\n",
       "      <th>count</th>\n",
       "      <th>mean</th>\n",
       "      <th>std</th>\n",
       "      <th>min</th>\n",
       "      <th>25%</th>\n",
       "      <th>50%</th>\n",
       "      <th>75%</th>\n",
       "      <th>max</th>\n",
       "    </tr>\n",
       "  </thead>\n",
       "  <tbody>\n",
       "    <tr>\n",
       "      <th>ATENDIMENTO EDUCACIONAL ESPECIALIZADO (AEE)</th>\n",
       "      <td>5,513.00</td>\n",
       "      <td>5,460.85</td>\n",
       "      <td>28,188.88</td>\n",
       "      <td>0.00</td>\n",
       "      <td>0.00</td>\n",
       "      <td>1,060.00</td>\n",
       "      <td>3,710.00</td>\n",
       "      <td>1,102,930.00</td>\n",
       "    </tr>\n",
       "    <tr>\n",
       "      <th>CRECHE</th>\n",
       "      <td>5,513.00</td>\n",
       "      <td>91,768.77</td>\n",
       "      <td>415,035.60</td>\n",
       "      <td>0.00</td>\n",
       "      <td>14,552.00</td>\n",
       "      <td>31,393.80</td>\n",
       "      <td>72,332.00</td>\n",
       "      <td>24,561,636.00</td>\n",
       "    </tr>\n",
       "    <tr>\n",
       "      <th>EJA</th>\n",
       "      <td>5,513.00</td>\n",
       "      <td>24,977.67</td>\n",
       "      <td>193,400.89</td>\n",
       "      <td>0.00</td>\n",
       "      <td>0.00</td>\n",
       "      <td>3,584.00</td>\n",
       "      <td>14,784.00</td>\n",
       "      <td>6,104,498.00</td>\n",
       "    </tr>\n",
       "    <tr>\n",
       "      <th>ENSINO FUNDAMENTAL</th>\n",
       "      <td>5,513.00</td>\n",
       "      <td>304,055.66</td>\n",
       "      <td>1,505,341.77</td>\n",
       "      <td>0.00</td>\n",
       "      <td>36,626.00</td>\n",
       "      <td>93,480.00</td>\n",
       "      <td>257,020.00</td>\n",
       "      <td>66,987,801.70</td>\n",
       "    </tr>\n",
       "    <tr>\n",
       "      <th>ENSINO Mï¿½DIO</th>\n",
       "      <td>5,513.00</td>\n",
       "      <td>63,772.59</td>\n",
       "      <td>1,019,313.88</td>\n",
       "      <td>0.00</td>\n",
       "      <td>0.00</td>\n",
       "      <td>0.00</td>\n",
       "      <td>0.00</td>\n",
       "      <td>42,052,995.80</td>\n",
       "    </tr>\n",
       "    <tr>\n",
       "      <th>ENSINO Mï¿½DIO INTEGRAL</th>\n",
       "      <td>5,513.00</td>\n",
       "      <td>10,787.47</td>\n",
       "      <td>195,108.27</td>\n",
       "      <td>0.00</td>\n",
       "      <td>0.00</td>\n",
       "      <td>0.00</td>\n",
       "      <td>0.00</td>\n",
       "      <td>7,917,920.00</td>\n",
       "    </tr>\n",
       "    <tr>\n",
       "      <th>INDï¿½GENA</th>\n",
       "      <td>5,513.00</td>\n",
       "      <td>5,446.85</td>\n",
       "      <td>61,433.02</td>\n",
       "      <td>0.00</td>\n",
       "      <td>0.00</td>\n",
       "      <td>0.00</td>\n",
       "      <td>0.00</td>\n",
       "      <td>1,995,436.00</td>\n",
       "    </tr>\n",
       "    <tr>\n",
       "      <th>MAIS EDUCAï¿½ï¿½O (PARC. COMPLEM.) - FUNDAMENTAL</th>\n",
       "      <td>5,513.00</td>\n",
       "      <td>14,998.17</td>\n",
       "      <td>52,939.57</td>\n",
       "      <td>0.00</td>\n",
       "      <td>0.00</td>\n",
       "      <td>0.00</td>\n",
       "      <td>1,022.40</td>\n",
       "      <td>1,549,560.80</td>\n",
       "    </tr>\n",
       "    <tr>\n",
       "      <th>MAIS EDUCAï¿½ï¿½O (PARC. COMPLEM.) - INDï¿½GENA</th>\n",
       "      <td>5,513.00</td>\n",
       "      <td>53.90</td>\n",
       "      <td>1,435.82</td>\n",
       "      <td>0.00</td>\n",
       "      <td>0.00</td>\n",
       "      <td>0.00</td>\n",
       "      <td>0.00</td>\n",
       "      <td>75,060.80</td>\n",
       "    </tr>\n",
       "    <tr>\n",
       "      <th>MAIS EDUCAï¿½ï¿½O (PARC. COMPLEM.) - QUILOMBOLA</th>\n",
       "      <td>5,513.00</td>\n",
       "      <td>207.77</td>\n",
       "      <td>2,257.96</td>\n",
       "      <td>0.00</td>\n",
       "      <td>0.00</td>\n",
       "      <td>0.00</td>\n",
       "      <td>0.00</td>\n",
       "      <td>96,457.60</td>\n",
       "    </tr>\n",
       "    <tr>\n",
       "      <th>PRï¿½-ESCOLA</th>\n",
       "      <td>5,513.00</td>\n",
       "      <td>77,092.48</td>\n",
       "      <td>231,290.19</td>\n",
       "      <td>0.00</td>\n",
       "      <td>14,204.00</td>\n",
       "      <td>30,104.00</td>\n",
       "      <td>68,052.00</td>\n",
       "      <td>9,933,025.60</td>\n",
       "    </tr>\n",
       "    <tr>\n",
       "      <th>QUILOMBOLA</th>\n",
       "      <td>5,513.00</td>\n",
       "      <td>5,811.59</td>\n",
       "      <td>36,247.65</td>\n",
       "      <td>0.00</td>\n",
       "      <td>0.00</td>\n",
       "      <td>0.00</td>\n",
       "      <td>0.00</td>\n",
       "      <td>1,340,631.00</td>\n",
       "    </tr>\n",
       "  </tbody>\n",
       "</table>\n",
       "</div>"
      ],
      "text/plain": [
       "                                                    count       mean  \\\n",
       "ATENDIMENTO EDUCACIONAL ESPECIALIZADO (AEE)      5,513.00   5,460.85   \n",
       "CRECHE                                           5,513.00  91,768.77   \n",
       "EJA                                              5,513.00  24,977.67   \n",
       "ENSINO FUNDAMENTAL                               5,513.00 304,055.66   \n",
       "ENSINO Mï¿½DIO                                   5,513.00  63,772.59   \n",
       "ENSINO Mï¿½DIO INTEGRAL                          5,513.00  10,787.47   \n",
       "INDï¿½GENA                                       5,513.00   5,446.85   \n",
       "MAIS EDUCAï¿½ï¿½O (PARC. COMPLEM.) - FUNDAMENTAL 5,513.00  14,998.17   \n",
       "MAIS EDUCAï¿½ï¿½O (PARC. COMPLEM.) - INDï¿½GENA  5,513.00      53.90   \n",
       "MAIS EDUCAï¿½ï¿½O (PARC. COMPLEM.) - QUILOMBOLA  5,513.00     207.77   \n",
       "PRï¿½-ESCOLA                                     5,513.00  77,092.48   \n",
       "QUILOMBOLA                                       5,513.00   5,811.59   \n",
       "\n",
       "                                                          std  min       25%  \\\n",
       "ATENDIMENTO EDUCACIONAL ESPECIALIZADO (AEE)         28,188.88 0.00      0.00   \n",
       "CRECHE                                             415,035.60 0.00 14,552.00   \n",
       "EJA                                                193,400.89 0.00      0.00   \n",
       "ENSINO FUNDAMENTAL                               1,505,341.77 0.00 36,626.00   \n",
       "ENSINO Mï¿½DIO                                   1,019,313.88 0.00      0.00   \n",
       "ENSINO Mï¿½DIO INTEGRAL                            195,108.27 0.00      0.00   \n",
       "INDï¿½GENA                                          61,433.02 0.00      0.00   \n",
       "MAIS EDUCAï¿½ï¿½O (PARC. COMPLEM.) - FUNDAMENTAL    52,939.57 0.00      0.00   \n",
       "MAIS EDUCAï¿½ï¿½O (PARC. COMPLEM.) - INDï¿½GENA      1,435.82 0.00      0.00   \n",
       "MAIS EDUCAï¿½ï¿½O (PARC. COMPLEM.) - QUILOMBOLA      2,257.96 0.00      0.00   \n",
       "PRï¿½-ESCOLA                                       231,290.19 0.00 14,204.00   \n",
       "QUILOMBOLA                                          36,247.65 0.00      0.00   \n",
       "\n",
       "                                                       50%        75%  \\\n",
       "ATENDIMENTO EDUCACIONAL ESPECIALIZADO (AEE)       1,060.00   3,710.00   \n",
       "CRECHE                                           31,393.80  72,332.00   \n",
       "EJA                                               3,584.00  14,784.00   \n",
       "ENSINO FUNDAMENTAL                               93,480.00 257,020.00   \n",
       "ENSINO Mï¿½DIO                                        0.00       0.00   \n",
       "ENSINO Mï¿½DIO INTEGRAL                               0.00       0.00   \n",
       "INDï¿½GENA                                            0.00       0.00   \n",
       "MAIS EDUCAï¿½ï¿½O (PARC. COMPLEM.) - FUNDAMENTAL      0.00   1,022.40   \n",
       "MAIS EDUCAï¿½ï¿½O (PARC. COMPLEM.) - INDï¿½GENA       0.00       0.00   \n",
       "MAIS EDUCAï¿½ï¿½O (PARC. COMPLEM.) - QUILOMBOLA       0.00       0.00   \n",
       "PRï¿½-ESCOLA                                     30,104.00  68,052.00   \n",
       "QUILOMBOLA                                            0.00       0.00   \n",
       "\n",
       "                                                           max  \n",
       "ATENDIMENTO EDUCACIONAL ESPECIALIZADO (AEE)       1,102,930.00  \n",
       "CRECHE                                           24,561,636.00  \n",
       "EJA                                               6,104,498.00  \n",
       "ENSINO FUNDAMENTAL                               66,987,801.70  \n",
       "ENSINO Mï¿½DIO                                   42,052,995.80  \n",
       "ENSINO Mï¿½DIO INTEGRAL                           7,917,920.00  \n",
       "INDï¿½GENA                                        1,995,436.00  \n",
       "MAIS EDUCAï¿½ï¿½O (PARC. COMPLEM.) - FUNDAMENTAL  1,549,560.80  \n",
       "MAIS EDUCAï¿½ï¿½O (PARC. COMPLEM.) - INDï¿½GENA      75,060.80  \n",
       "MAIS EDUCAï¿½ï¿½O (PARC. COMPLEM.) - QUILOMBOLA      96,457.60  \n",
       "PRï¿½-ESCOLA                                      9,933,025.60  \n",
       "QUILOMBOLA                                        1,340,631.00  "
      ]
     },
     "execution_count": 5,
     "metadata": {},
     "output_type": "execute_result"
    }
   ],
   "source": [
    "base.describe().T"
   ]
  },
  {
   "cell_type": "code",
   "execution_count": 6,
   "metadata": {
    "ExecuteTime": {
     "end_time": "2021-06-04T14:51:16.029987Z",
     "start_time": "2021-06-04T14:51:16.013000Z"
    }
   },
   "outputs": [],
   "source": [
    "base['ESTADO']=base['CIDADE'].str.slice(0, 2)"
   ]
  },
  {
   "cell_type": "code",
   "execution_count": 7,
   "metadata": {
    "ExecuteTime": {
     "end_time": "2021-06-04T14:51:19.659825Z",
     "start_time": "2021-06-04T14:51:19.651849Z"
    }
   },
   "outputs": [],
   "source": [
    "# Intervalo interquartil e limites\n",
    "def ver_outliers(df, feature):\n",
    "    valor_iqr=iqr(df[feature],  keepdims=True)[0]\n",
    "\n",
    "    l_sup = df[feature].mean()  + 1.5*valor_iqr\n",
    "    l_inf = df[feature].mean()  - 1.5*valor_iqr\n",
    "\n",
    "    print('Intervalo interquartil:', valor_iqr)\n",
    "    print('Média', df[feature].mean())\n",
    "    print('Limite Superior:', l_sup)\n",
    "    print('Limite inferior:', l_inf)\n",
    "    \n",
    "    df[feature+'_OUT']=df[feature].apply(lambda x: 1 if (x<l_inf or x>l_sup) else 0)\n",
    "    print()\n",
    "    print(base.groupby(feature+'_OUT')[feature+'_OUT'].count())\n",
    "    "
   ]
  },
  {
   "cell_type": "code",
   "execution_count": 8,
   "metadata": {
    "ExecuteTime": {
     "end_time": "2021-06-04T14:51:21.817355Z",
     "start_time": "2021-06-04T14:51:21.787927Z"
    }
   },
   "outputs": [
    {
     "name": "stdout",
     "output_type": "stream",
     "text": [
      "Intervalo interquartil: 57780.0\n",
      "Média 91768.77049156553\n",
      "Limite Superior: 178438.77049156552\n",
      "Limite inferior: 5098.770491565534\n",
      "\n",
      "CRECHE_OUT\n",
      "0    4499\n",
      "1    1014\n",
      "Name: CRECHE_OUT, dtype: int64\n"
     ]
    }
   ],
   "source": [
    "ver_outliers(base, 'CRECHE')"
   ]
  },
  {
   "cell_type": "code",
   "execution_count": 33,
   "metadata": {
    "ExecuteTime": {
     "end_time": "2021-06-04T15:08:23.075515Z",
     "start_time": "2021-06-04T15:08:23.047985Z"
    }
   },
   "outputs": [],
   "source": [
    "(base.groupby('CIDADE').sum()[['PRï¿½-ESCOLA']]).to_csv('PNAE_RECURSOS_REPASSADOS_2018_PRE.csv')"
   ]
  },
  {
   "cell_type": "code",
   "execution_count": null,
   "metadata": {
    "ExecuteTime": {
     "end_time": "2021-06-03T22:00:54.577078Z",
     "start_time": "2021-06-03T22:00:54.565111Z"
    }
   },
   "outputs": [],
   "source": [
    "campos = ['ATENDIMENTO EDUCACIONAL ESPECIALIZADO (AEE)',\n",
    "'CRECHE',\n",
    "'EJA',\n",
    "'ENSINO FUNDAMENTAL',\n",
    "'ENSINO Mï¿½DIO',\n",
    "'ENSINO Mï¿½DIO INTEGRAL',\n",
    "'INDï¿½GENA',\n",
    "'MAIS EDUCAï¿½ï¿½O (PARC. COMPLEM.) - FUNDAMENTAL',\n",
    "'MAIS EDUCAï¿½ï¿½O (PARC. COMPLEM.) - INDï¿½GENA',\n",
    "'MAIS EDUCAï¿½ï¿½O (PARC. COMPLEM.) - QUILOMBOLA',\n",
    "'PRï¿½-ESCOLA',\n",
    "'QUILOMBOLA']"
   ]
  },
  {
   "cell_type": "code",
   "execution_count": null,
   "metadata": {
    "ExecuteTime": {
     "end_time": "2021-06-03T22:02:23.181853Z",
     "start_time": "2021-06-03T22:02:23.158893Z"
    }
   },
   "outputs": [],
   "source": [
    "base.groupby('ESTADO').mean()"
   ]
  },
  {
   "cell_type": "code",
   "execution_count": null,
   "metadata": {
    "ExecuteTime": {
     "end_time": "2021-06-03T21:40:30.565826Z",
     "start_time": "2021-06-03T21:40:27.748873Z"
    }
   },
   "outputs": [],
   "source": [
    "sns.set_theme(style=\"white\")\n",
    "corr =base.corr()\n",
    "plt.figure(figsize=(16, 6))\n",
    "heatmap = sns.heatmap(corr, vmin=-1, vmax=1, annot=True, cmap='RdBu')\n",
    "heatmap.set_title('Correlation Heatmap', fontdict={'fontsize':18}, pad=12);\n",
    "# save heatmap as .png file\n",
    "# dpi - sets the resolution of the saved image in dots/inches\n",
    "# bbox_inches - when set to 'tight' - does not allow the labels to be cropped\n",
    "plt.savefig('heatmap.png', dpi=300, bbox_inches='tight')"
   ]
  },
  {
   "cell_type": "code",
   "execution_count": null,
   "metadata": {
    "ExecuteTime": {
     "end_time": "2021-06-03T22:00:14.792620Z",
     "start_time": "2021-06-03T22:00:14.784687Z"
    }
   },
   "outputs": [],
   "source": [
    "campos = ['CRECHE', 'ESTADO']"
   ]
  },
  {
   "cell_type": "code",
   "execution_count": null,
   "metadata": {
    "ExecuteTime": {
     "end_time": "2021-06-03T22:00:15.560989Z",
     "start_time": "2021-06-03T22:00:15.152672Z"
    }
   },
   "outputs": [],
   "source": [
    "X = base[campos]\n",
    "X.boxplot(by='ESTADO')"
   ]
  },
  {
   "cell_type": "code",
   "execution_count": null,
   "metadata": {
    "ExecuteTime": {
     "end_time": "2021-06-03T21:52:31.042827Z",
     "start_time": "2021-06-03T21:52:30.777194Z"
    }
   },
   "outputs": [],
   "source": [
    "plt.scatter(X.iloc[0], X.iloc[1])\n",
    "plt.grid()\n",
    "plt.tight_layout()\n",
    "plt.savefig('scatter.png', dpi=300)\n",
    "plt.show()"
   ]
  },
  {
   "cell_type": "code",
   "execution_count": null,
   "metadata": {
    "ExecuteTime": {
     "end_time": "2021-06-03T21:44:14.587425Z",
     "start_time": "2021-06-03T21:44:14.577452Z"
    }
   },
   "outputs": [],
   "source": [
    "km = KMeans(n_clusters=5,init='k-means++',n_init=10,max_iter=300,random_state=21)"
   ]
  },
  {
   "cell_type": "code",
   "execution_count": null,
   "metadata": {
    "ExecuteTime": {
     "end_time": "2021-06-03T21:44:17.353264Z",
     "start_time": "2021-06-03T21:44:17.342305Z"
    }
   },
   "outputs": [],
   "source": [
    "#scaler = StandardScaler()\n",
    "scaler = MinMaxScaler()"
   ]
  },
  {
   "cell_type": "code",
   "execution_count": null,
   "metadata": {
    "ExecuteTime": {
     "end_time": "2021-06-03T21:44:20.173475Z",
     "start_time": "2021-06-03T21:44:20.152523Z"
    }
   },
   "outputs": [],
   "source": [
    "X_std = scaler.fit_transform(X)\n",
    "X_std"
   ]
  },
  {
   "cell_type": "code",
   "execution_count": null,
   "metadata": {
    "ExecuteTime": {
     "end_time": "2021-06-03T21:44:21.947763Z",
     "start_time": "2021-06-03T21:44:21.875958Z"
    }
   },
   "outputs": [],
   "source": [
    "y_km = km.fit_predict(X_std)"
   ]
  },
  {
   "cell_type": "code",
   "execution_count": null,
   "metadata": {
    "ExecuteTime": {
     "end_time": "2021-06-03T21:44:23.055987Z",
     "start_time": "2021-06-03T21:44:23.044024Z"
    }
   },
   "outputs": [],
   "source": [
    "print('Inércia: %.2f' % km.inertia_)"
   ]
  },
  {
   "cell_type": "code",
   "execution_count": null,
   "metadata": {
    "ExecuteTime": {
     "end_time": "2021-06-03T21:44:27.878647Z",
     "start_time": "2021-06-03T21:44:26.229192Z"
    }
   },
   "outputs": [],
   "source": [
    "inercia = []\n",
    "for i in range(1, 16):\n",
    "    km = KMeans(n_clusters=i, \n",
    "                init='k-means++', \n",
    "                n_init=10, \n",
    "                max_iter=300, \n",
    "                random_state=21)\n",
    "    km.fit(X)\n",
    "    inercia.append(km.inertia_)\n",
    "plt.plot(range(1, 16), inercia, marker='o')\n",
    "plt.xlabel('Number of clusters')\n",
    "plt.ylabel('Inércia')\n",
    "plt.tight_layout()\n",
    "#plt.savefig('images/11_03.png', dpi=300)\n",
    "plt.show()"
   ]
  },
  {
   "cell_type": "code",
   "execution_count": null,
   "metadata": {
    "ExecuteTime": {
     "end_time": "2021-06-03T21:44:43.306493Z",
     "start_time": "2021-06-03T21:44:33.435165Z"
    }
   },
   "outputs": [],
   "source": [
    "import numpy as np\n",
    "from matplotlib import cm\n",
    "from sklearn.metrics import silhouette_samples\n",
    "\n",
    "km = KMeans(n_clusters=7, \n",
    "            init='k-means++', \n",
    "            n_init=10, \n",
    "            max_iter=300,\n",
    "            tol=1e-04,\n",
    "            random_state=21)\n",
    "y_km = km.fit_predict(X)\n",
    "\n",
    "cluster_labels = np.unique(y_km)\n",
    "n_clusters = cluster_labels.shape[0]\n",
    "silhouette_vals = silhouette_samples(X, y_km, metric='euclidean')\n",
    "y_ax_lower, y_ax_upper = 0, 0\n",
    "yticks = []\n",
    "for i, c in enumerate(cluster_labels):\n",
    "    c_silhouette_vals = silhouette_vals[y_km == c]\n",
    "    c_silhouette_vals.sort()\n",
    "    y_ax_upper += len(c_silhouette_vals)\n",
    "    color = cm.jet(float(i) / n_clusters)\n",
    "    plt.barh(range(y_ax_lower, y_ax_upper), c_silhouette_vals, height=1.0, \n",
    "             edgecolor='none', color=color)\n",
    "\n",
    "    yticks.append((y_ax_lower + y_ax_upper) / 2.)\n",
    "    y_ax_lower += len(c_silhouette_vals)\n",
    "    \n",
    "silhouette_avg = np.mean(silhouette_vals)\n",
    "plt.axvline(silhouette_avg, color=\"red\", linestyle=\"--\") \n",
    "\n",
    "plt.yticks(yticks, cluster_labels + 1)\n",
    "plt.ylabel('Cluster')\n",
    "plt.xlabel('Silhouette coefficient')\n",
    "\n",
    "plt.tight_layout()\n",
    "plt.savefig('11_04.png', dpi=300)\n",
    "plt.show()"
   ]
  },
  {
   "cell_type": "code",
   "execution_count": null,
   "metadata": {},
   "outputs": [],
   "source": []
  }
 ],
 "metadata": {
  "kernelspec": {
   "display_name": "Python 3",
   "language": "python",
   "name": "python3"
  },
  "language_info": {
   "codemirror_mode": {
    "name": "ipython",
    "version": 3
   },
   "file_extension": ".py",
   "mimetype": "text/x-python",
   "name": "python",
   "nbconvert_exporter": "python",
   "pygments_lexer": "ipython3",
   "version": "3.8.5"
  },
  "varInspector": {
   "cols": {
    "lenName": 16,
    "lenType": 16,
    "lenVar": 40
   },
   "kernels_config": {
    "python": {
     "delete_cmd_postfix": "",
     "delete_cmd_prefix": "del ",
     "library": "var_list.py",
     "varRefreshCmd": "print(var_dic_list())"
    },
    "r": {
     "delete_cmd_postfix": ") ",
     "delete_cmd_prefix": "rm(",
     "library": "var_list.r",
     "varRefreshCmd": "cat(var_dic_list()) "
    }
   },
   "types_to_exclude": [
    "module",
    "function",
    "builtin_function_or_method",
    "instance",
    "_Feature"
   ],
   "window_display": false
  }
 },
 "nbformat": 4,
 "nbformat_minor": 4
}
